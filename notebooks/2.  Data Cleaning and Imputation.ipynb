{
 "cells": [
  {
   "cell_type": "markdown",
   "id": "532fda5d-1dbd-46a0-828c-418e4a09ad00",
   "metadata": {},
   "source": [
    "### 2. Data Cleaning and Imputation"
   ]
  },
  {
   "cell_type": "markdown",
   "id": "62ce93f1-3919-442e-acb6-19ada8d4bb86",
   "metadata": {
    "jp-MarkdownHeadingCollapsed": true
   },
   "source": [
    "#### Addressing missing data"
   ]
  },
  {
   "cell_type": "code",
   "execution_count": 1,
   "id": "264a13fb-0d1b-48c7-97a7-224d3bc66d41",
   "metadata": {},
   "outputs": [],
   "source": [
    "import pandas as pd\n",
    "from pathlib import Path\n",
    "import seaborn as sns\n",
    "import matplotlib.pyplot as plt\n",
    "import numpy as np\n",
    "import warnings\n",
    "warnings.filterwarnings(\"ignore\", category=FutureWarning)\n"
   ]
  },
  {
   "cell_type": "code",
   "execution_count": 2,
   "id": "8fd503e7-161c-4feb-98ee-b7b88a6a1a03",
   "metadata": {},
   "outputs": [],
   "source": [
    "# path of the dataset\n",
    "path = Path(\"G:/Data Science/EDA/EDA-DataCamp-2025/datasets/ds_salaries_clean.csv\")\n",
    "# Load the dataset\n",
    "salaries = pd.read_csv(path)"
   ]
  },
  {
   "cell_type": "code",
   "execution_count": 3,
   "id": "a208895b-08a0-4c40-82ee-b3033e2af238",
   "metadata": {},
   "outputs": [
    {
     "name": "stdout",
     "output_type": "stream",
     "text": [
      "<class 'pandas.core.frame.DataFrame'>\n",
      "RangeIndex: 607 entries, 0 to 606\n",
      "Data columns (total 8 columns):\n",
      " #   Column                Non-Null Count  Dtype  \n",
      "---  ------                --------------  -----  \n",
      " 0   Working_Year          607 non-null    int64  \n",
      " 1   Designation           607 non-null    object \n",
      " 2   Experience            607 non-null    object \n",
      " 3   Employment_Status     607 non-null    object \n",
      " 4   Employee_Location     607 non-null    object \n",
      " 5   Company_Size          607 non-null    object \n",
      " 6   Remote_Working_Ratio  607 non-null    int64  \n",
      " 7   Salary_USD            607 non-null    float64\n",
      "dtypes: float64(1), int64(2), object(5)\n",
      "memory usage: 38.1+ KB\n"
     ]
    }
   ],
   "source": [
    "# See the quick summary of the dataset\n",
    "salaries.info()"
   ]
  },
  {
   "cell_type": "code",
   "execution_count": 4,
   "id": "98ed704c-e9af-4abb-9ba1-fb7ece80411c",
   "metadata": {},
   "outputs": [
    {
     "data": {
      "image/png": "[encoded data removed]",
      "text/plain": [
       "<Figure size 640x480 with 1 Axes>"
      ]
     },
     "metadata": {},
     "output_type": "display_data"
    }
   ],
   "source": [
    "# Salary by experience level\n",
    "sns.boxplot(data=salaries, x=\"Experience\", y=\"Salary_USD\", palette=\"tab10\")\n",
    "plt.show()"
   ]
  },
  {
   "cell_type": "code",
   "execution_count": 5,
   "id": "eaf54f79-4ec1-4313-b80a-062a9cb16791",
   "metadata": {},
   "outputs": [
    {
     "data": {
      "text/plain": [
       "Working_Year            0\n",
       "Designation             0\n",
       "Experience              0\n",
       "Employment_Status       0\n",
       "Employee_Location       0\n",
       "Company_Size            0\n",
       "Remote_Working_Ratio    0\n",
       "Salary_USD              0\n",
       "dtype: int64"
      ]
     },
     "execution_count": 5,
     "metadata": {},
     "output_type": "execute_result"
    }
   ],
   "source": [
    "# checking for missing values\n",
    "salaries.isna().sum()"
   ]
  },
  {
   "cell_type": "code",
   "execution_count": 6,
   "id": "d50d770d-a993-4b6a-b4db-0b009bab4b89",
   "metadata": {},
   "outputs": [
    {
     "data": {
      "text/plain": [
       "30.35"
      ]
     },
     "execution_count": 6,
     "metadata": {},
     "output_type": "execute_result"
    }
   ],
   "source": [
    "# Dropping missing values\n",
    "threshold = len(salaries) * 0.05\n",
    "threshold"
   ]
  },
  {
   "cell_type": "code",
   "execution_count": 7,
   "id": "690e42f1-5c04-4d42-b1c2-b42cbf606f40",
   "metadata": {},
   "outputs": [
    {
     "data": {
      "text/plain": [
       "Index(['Working_Year', 'Designation', 'Experience', 'Employment_Status',\n",
       "       'Employee_Location', 'Company_Size', 'Remote_Working_Ratio',\n",
       "       'Salary_USD'],\n",
       "      dtype='object')"
      ]
     },
     "execution_count": 7,
     "metadata": {},
     "output_type": "execute_result"
    }
   ],
   "source": [
    "cols_to_drop = salaries.columns[salaries.isna().sum() <= threshold]\n",
    "cols_to_drop"
   ]
  },
  {
   "cell_type": "markdown",
   "id": "2d91bd3e-bb38-405c-85ac-2335f2946862",
   "metadata": {
    "jp-MarkdownHeadingCollapsed": true
   },
   "source": [
    "#### Exercise - Addressing missing data"
   ]
  },
  {
   "cell_type": "markdown",
   "id": "48ee383b-14c6-4fd1-9313-fe8cccda4737",
   "metadata": {},
   "source": [
    "##### Dealing with missing data"
   ]
  },
  {
   "cell_type": "markdown",
   "id": "2b756aac-88ef-42f7-a198-d430c1a9f69c",
   "metadata": {},
   "source": [
    "It is important to deal with missing data before starting your analysis.\n",
    "\n",
    "One approach is to drop missing values if they account for a small proportion, typically five percent, of your data.\n",
    "\n",
    "Working with a dataset on plane ticket prices, stored as a pandas DataFrame called planes, you'll need to count the number of missing values across all columns, calculate five percent of all values, use this threshold to remove observations, and check how many missing values remain in the dataset."
   ]
  },
  {
   "cell_type": "code",
   "execution_count": 8,
   "id": "7391f797-5d5a-4bf5-b35e-d4851802cde2",
   "metadata": {},
   "outputs": [
    {
     "data": {
      "text/html": [
       "<div>\n",
       "<style scoped>\n",
       "    .dataframe tbody tr th:only-of-type {\n",
       "        vertical-align: middle;\n",
       "    }\n",
       "\n",
       "    .dataframe tbody tr th {\n",
       "        vertical-align: top;\n",
       "    }\n",
       "\n",
       "    .dataframe thead th {\n",
       "        text-align: right;\n",
       "    }\n",
       "</style>\n",
       "<table border=\"1\" class=\"dataframe\">\n",
       "  <thead>\n",
       "    <tr style=\"text-align: right;\">\n",
       "      <th></th>\n",
       "      <th>Airline</th>\n",
       "      <th>Date_of_Journey</th>\n",
       "      <th>Source</th>\n",
       "      <th>Destination</th>\n",
       "      <th>Route</th>\n",
       "      <th>Dep_Time</th>\n",
       "      <th>Arrival_Time</th>\n",
       "      <th>Duration</th>\n",
       "      <th>Total_Stops</th>\n",
       "      <th>Additional_Info</th>\n",
       "      <th>Price</th>\n",
       "    </tr>\n",
       "  </thead>\n",
       "  <tbody>\n",
       "    <tr>\n",
       "      <th>0</th>\n",
       "      <td>Jet Airways</td>\n",
       "      <td>9/06/2019</td>\n",
       "      <td>Delhi</td>\n",
       "      <td>Cochin</td>\n",
       "      <td>DEL → LKO → BOM → COK</td>\n",
       "      <td>09:25</td>\n",
       "      <td>04:25 10 Jun</td>\n",
       "      <td>19h</td>\n",
       "      <td>2 stops</td>\n",
       "      <td>No info</td>\n",
       "      <td>13882.0</td>\n",
       "    </tr>\n",
       "    <tr>\n",
       "      <th>1</th>\n",
       "      <td>IndiGo</td>\n",
       "      <td>12/05/2019</td>\n",
       "      <td>Kolkata</td>\n",
       "      <td>Banglore</td>\n",
       "      <td>CCU → NAG → BLR</td>\n",
       "      <td>18:05</td>\n",
       "      <td>23:30</td>\n",
       "      <td>5h 25m</td>\n",
       "      <td>1 stop</td>\n",
       "      <td>No info</td>\n",
       "      <td>6218.0</td>\n",
       "    </tr>\n",
       "  </tbody>\n",
       "</table>\n",
       "</div>"
      ],
      "text/plain": [
       "       Airline Date_of_Journey   Source Destination                  Route  \\\n",
       "0  Jet Airways       9/06/2019    Delhi      Cochin  DEL → LKO → BOM → COK   \n",
       "1       IndiGo      12/05/2019  Kolkata    Banglore        CCU → NAG → BLR   \n",
       "\n",
       "  Dep_Time  Arrival_Time Duration Total_Stops Additional_Info    Price  \n",
       "0    09:25  04:25 10 Jun      19h     2 stops         No info  13882.0  \n",
       "1    18:05         23:30   5h 25m      1 stop         No info   6218.0  "
      ]
     },
     "execution_count": 8,
     "metadata": {},
     "output_type": "execute_result"
    }
   ],
   "source": [
    "plane_path = Path(\"G:/Data Science/EDA/EDA-DataCamp-2025/datasets/planes.csv\")\n",
    "planes = pd.read_csv(plane_path)\n",
    "planes.head(n=2)"
   ]
  },
  {
   "cell_type": "code",
   "execution_count": 9,
   "id": "73109497-e319-4295-9f33-ab757a621129",
   "metadata": {},
   "outputs": [
    {
     "data": {
      "text/plain": [
       "(10660, 11)"
      ]
     },
     "execution_count": 9,
     "metadata": {},
     "output_type": "execute_result"
    }
   ],
   "source": [
    "planes.shape"
   ]
  },
  {
   "cell_type": "code",
   "execution_count": 10,
   "id": "63cc6b14-431f-4f44-9cc1-3e9fb624ff9f",
   "metadata": {},
   "outputs": [
    {
     "data": {
      "text/plain": [
       "Airline            427\n",
       "Date_of_Journey    322\n",
       "Source             187\n",
       "Destination        347\n",
       "Route              256\n",
       "Dep_Time           260\n",
       "Arrival_Time       194\n",
       "Duration           214\n",
       "Total_Stops        212\n",
       "Additional_Info    589\n",
       "Price              616\n",
       "dtype: int64"
      ]
     },
     "execution_count": 10,
     "metadata": {},
     "output_type": "execute_result"
    }
   ],
   "source": [
    "# Print the number of missing values in each column of the DataFrame.\n",
    "planes.isnull().sum()"
   ]
  },
  {
   "cell_type": "code",
   "execution_count": 11,
   "id": "43410318-7235-4712-b4e2-d243e321ffe0",
   "metadata": {},
   "outputs": [
    {
     "data": {
      "text/plain": [
       "533.0"
      ]
     },
     "execution_count": 11,
     "metadata": {},
     "output_type": "execute_result"
    }
   ],
   "source": [
    "# Calculate how many observations five percent of the planes DataFrame is equal to.\n",
    "# Lets define a threshold\n",
    "threshold = len(planes) * 0.05\n",
    "threshold"
   ]
  },
  {
   "cell_type": "code",
   "execution_count": 12,
   "id": "97a98456-9f66-4d34-b10e-ec2828eda808",
   "metadata": {},
   "outputs": [
    {
     "data": {
      "text/plain": [
       "Index(['Airline', 'Date_of_Journey', 'Source', 'Destination', 'Route',\n",
       "       'Dep_Time', 'Arrival_Time', 'Duration', 'Total_Stops'],\n",
       "      dtype='object')"
      ]
     },
     "execution_count": 12,
     "metadata": {},
     "output_type": "execute_result"
    }
   ],
   "source": [
    "# Create cols_to_drop by applying boolean indexing to columns of the DataFrame with missing values less than or equal to the threshold.\n",
    "cols_to_drop = planes.columns[planes.isnull().sum() <= threshold]\n",
    "cols_to_drop"
   ]
  },
  {
   "cell_type": "code",
   "execution_count": 13,
   "id": "f652ee3c-d489-4bac-b020-ffb33e12b0a5",
   "metadata": {},
   "outputs": [],
   "source": [
    "# Use this filter to remove missing values and save the updated DataFrame.\n",
    "planes.dropna(subset=cols_to_drop, inplace=True)"
   ]
  },
  {
   "cell_type": "code",
   "execution_count": 14,
   "id": "ba830e19-53ec-46d7-9c19-2ecd426b9afe",
   "metadata": {},
   "outputs": [
    {
     "data": {
      "text/plain": [
       "Airline              0\n",
       "Date_of_Journey      0\n",
       "Source               0\n",
       "Destination          0\n",
       "Route                0\n",
       "Dep_Time             0\n",
       "Arrival_Time         0\n",
       "Duration             0\n",
       "Total_Stops          0\n",
       "Additional_Info    300\n",
       "Price              368\n",
       "dtype: int64"
      ]
     },
     "execution_count": 14,
     "metadata": {},
     "output_type": "execute_result"
    }
   ],
   "source": [
    "planes.isna().sum()"
   ]
  },
  {
   "cell_type": "markdown",
   "id": "91c33578-a9d7-4252-8c77-3e77b017940a",
   "metadata": {},
   "source": [
    "##### Strategies for remaining missing data"
   ]
  },
  {
   "cell_type": "markdown",
   "id": "c95f444b-5e1a-4d58-b827-9d0f27c2f64c",
   "metadata": {},
   "source": [
    "The five percent rule has worked nicely for your planes dataset, eliminating missing values from nine out of 11 columns!\n",
    "\n",
    "Now, you need to decide what to do with the \"Additional_Info\" and \"Price\" columns, which are missing 300 and 368 values respectively.\n",
    "\n",
    "You'll first take a look at what \"Additional_Info\" contains, then visualize the price of plane tickets by different airlines."
   ]
  },
  {
   "cell_type": "code",
   "execution_count": 15,
   "id": "25968676-d72f-4ae1-9db9-88c4238cf57a",
   "metadata": {},
   "outputs": [
    {
     "data": {
      "text/plain": [
       "Additional_Info\n",
       "No info                         6399\n",
       "In-flight meal not included     1525\n",
       "No check-in baggage included     258\n",
       "1 Long layover                    14\n",
       "Change airports                    7\n",
       "No Info                            2\n",
       "Business class                     1\n",
       "Red-eye flight                     1\n",
       "2 Long layover                     1\n",
       "Name: count, dtype: int64"
      ]
     },
     "execution_count": 15,
     "metadata": {},
     "output_type": "execute_result"
    }
   ],
   "source": [
    "# Print the values and frequencies of \"Additional_Info\"\n",
    "planes[\"Additional_Info\"].value_counts()"
   ]
  },
  {
   "cell_type": "code",
   "execution_count": 16,
   "id": "6f1fb96c-8cd8-47ba-9320-6c3bad565520",
   "metadata": {},
   "outputs": [
    {
     "data": {
      "image/png": "[encoded data removed]",
      "text/plain": [
       "<Figure size 1200x800 with 1 Axes>"
      ]
     },
     "metadata": {},
     "output_type": "display_data"
    }
   ],
   "source": [
    "# Create a boxplot of \"Price\" versus \"Airline\".\n",
    "plt.figure(figsize=(12, 8))\n",
    "sns.boxplot(data=planes, x=\"Airline\", y=\"Price\", palette=\"tab10\")\n",
    "plt.show()"
   ]
  },
  {
   "cell_type": "code",
   "execution_count": 17,
   "id": "79f5970e-e44a-43b7-a59d-8e033ec3a93c",
   "metadata": {},
   "outputs": [
    {
     "data": {
      "text/plain": [
       "<Axes: xlabel='Price'>"
      ]
     },
     "execution_count": 17,
     "metadata": {},
     "output_type": "execute_result"
    },
    {
     "data": {
      "image/png": "[encoded data removed]",
      "text/plain": [
       "<Figure size 640x480 with 1 Axes>"
      ]
     },
     "metadata": {},
     "output_type": "display_data"
    }
   ],
   "source": [
    "# this is for my understanding about the price \n",
    "sns.boxplot(data=planes, x=\"Price\")"
   ]
  },
  {
   "cell_type": "code",
   "execution_count": 18,
   "id": "39ee7a7d-5628-4575-a080-67a89678e9c2",
   "metadata": {},
   "outputs": [],
   "source": [
    "# How should you deal with the missing values in \"Additional_Info\" and \"Price\"?\n",
    "# Ans : Remove the \"Additional_Info\" column and impute the median by \"Airline\" for missing values of \"Price\"\n",
    "planes.drop(\"Additional_Info\", axis=1, inplace=True)"
   ]
  },
  {
   "cell_type": "markdown",
   "id": "86259eaa-4c72-446c-9e3b-438d3904bb3e",
   "metadata": {},
   "source": [
    "##### Imputing missing plane prices"
   ]
  },
  {
   "cell_type": "markdown",
   "id": "9bf1fa8d-b438-426b-a84e-e0198cc3623b",
   "metadata": {},
   "source": [
    "Now there's just one column with missing values left!\n",
    "\n",
    "You've removed the \"Additional_Info\" column from planes—the last step is to impute the missing data in the \"Price\" column of the dataset.\n",
    "\n",
    "As a reminder, you generated this boxplot, which suggested that imputing the median price based on the \"Airline\" is a solid approach!"
   ]
  },
  {
   "cell_type": "code",
   "execution_count": 19,
   "id": "bd7ada99-2d3b-4f16-909a-ee50ae50d597",
   "metadata": {},
   "outputs": [
    {
     "data": {
      "text/plain": [
       "Airline\n",
       "Air Asia              5192.0\n",
       "Air India             9443.0\n",
       "GoAir                 5003.5\n",
       "IndiGo                5054.0\n",
       "Jet Airways          11507.0\n",
       "Multiple carriers    10197.0\n",
       "SpiceJet              3873.0\n",
       "Vistara               8028.0\n",
       "Name: Price, dtype: float64"
      ]
     },
     "execution_count": 19,
     "metadata": {},
     "output_type": "execute_result"
    }
   ],
   "source": [
    "# Group planes by airline and calculate the median price.\n",
    "airline_prices = planes.groupby(\"Airline\")[\"Price\"].median()\n",
    "airline_prices"
   ]
  },
  {
   "cell_type": "code",
   "execution_count": 20,
   "id": "17faf618-d56c-42b5-938c-4169889d6c39",
   "metadata": {},
   "outputs": [
    {
     "data": {
      "text/plain": [
       "{'Air Asia': 5192.0,\n",
       " 'Air India': 9443.0,\n",
       " 'GoAir': 5003.5,\n",
       " 'IndiGo': 5054.0,\n",
       " 'Jet Airways': 11507.0,\n",
       " 'Multiple carriers': 10197.0,\n",
       " 'SpiceJet': 3873.0,\n",
       " 'Vistara': 8028.0}"
      ]
     },
     "execution_count": 20,
     "metadata": {},
     "output_type": "execute_result"
    }
   ],
   "source": [
    "# Convert the grouped median prices to a dictionary.\n",
    "prices_dict = airline_prices.to_dict()\n",
    "prices_dict"
   ]
  },
  {
   "cell_type": "code",
   "execution_count": 21,
   "id": "b8b277f7-6b17-4856-8b7c-4a5c658376c6",
   "metadata": {},
   "outputs": [],
   "source": [
    "# Conditionally impute missing values for \"Price\" by mapping values in the \"Airline\" column based on prices_dict.\n",
    "planes[\"Price\"] = planes[\"Price\"].fillna(planes[\"Airline\"].map(prices_dict))"
   ]
  },
  {
   "cell_type": "code",
   "execution_count": 22,
   "id": "e583dd0d-14c6-41e9-b4eb-fc8784355789",
   "metadata": {},
   "outputs": [
    {
     "data": {
      "text/plain": [
       "Airline            0\n",
       "Date_of_Journey    0\n",
       "Source             0\n",
       "Destination        0\n",
       "Route              0\n",
       "Dep_Time           0\n",
       "Arrival_Time       0\n",
       "Duration           0\n",
       "Total_Stops        0\n",
       "Price              0\n",
       "dtype: int64"
      ]
     },
     "execution_count": 22,
     "metadata": {},
     "output_type": "execute_result"
    }
   ],
   "source": [
    "# check final is there any null values in dataset\n",
    "planes.isna().sum()"
   ]
  },
  {
   "cell_type": "markdown",
   "id": "a30c46ac-52a2-40d4-846a-cdddf4062e70",
   "metadata": {
    "jp-MarkdownHeadingCollapsed": true
   },
   "source": [
    "#### Converting and analyzing categorical data"
   ]
  },
  {
   "cell_type": "code",
   "execution_count": 25,
   "id": "7823cce2-062c-4f36-82ba-af1102da27ec",
   "metadata": {},
   "outputs": [
    {
     "data": {
      "text/html": [
       "<div>\n",
       "<style scoped>\n",
       "    .dataframe tbody tr th:only-of-type {\n",
       "        vertical-align: middle;\n",
       "    }\n",
       "\n",
       "    .dataframe tbody tr th {\n",
       "        vertical-align: top;\n",
       "    }\n",
       "\n",
       "    .dataframe thead th {\n",
       "        text-align: right;\n",
       "    }\n",
       "</style>\n",
       "<table border=\"1\" class=\"dataframe\">\n",
       "  <thead>\n",
       "    <tr style=\"text-align: right;\">\n",
       "      <th></th>\n",
       "      <th>Designation</th>\n",
       "      <th>Experience</th>\n",
       "      <th>Employment_Status</th>\n",
       "      <th>Employee_Location</th>\n",
       "      <th>Company_Size</th>\n",
       "    </tr>\n",
       "  </thead>\n",
       "  <tbody>\n",
       "    <tr>\n",
       "      <th>0</th>\n",
       "      <td>Data Scientist</td>\n",
       "      <td>Mid</td>\n",
       "      <td>FT</td>\n",
       "      <td>DE</td>\n",
       "      <td>L</td>\n",
       "    </tr>\n",
       "    <tr>\n",
       "      <th>1</th>\n",
       "      <td>Machine Learning Scientist</td>\n",
       "      <td>Senior</td>\n",
       "      <td>FT</td>\n",
       "      <td>JP</td>\n",
       "      <td>S</td>\n",
       "    </tr>\n",
       "    <tr>\n",
       "      <th>2</th>\n",
       "      <td>Big Data Engineer</td>\n",
       "      <td>Senior</td>\n",
       "      <td>FT</td>\n",
       "      <td>GB</td>\n",
       "      <td>M</td>\n",
       "    </tr>\n",
       "    <tr>\n",
       "      <th>3</th>\n",
       "      <td>Product Data Analyst</td>\n",
       "      <td>Mid</td>\n",
       "      <td>FT</td>\n",
       "      <td>HN</td>\n",
       "      <td>S</td>\n",
       "    </tr>\n",
       "    <tr>\n",
       "      <th>4</th>\n",
       "      <td>Machine Learning Engineer</td>\n",
       "      <td>Senior</td>\n",
       "      <td>FT</td>\n",
       "      <td>US</td>\n",
       "      <td>L</td>\n",
       "    </tr>\n",
       "  </tbody>\n",
       "</table>\n",
       "</div>"
      ],
      "text/plain": [
       "                  Designation Experience Employment_Status Employee_Location  \\\n",
       "0              Data Scientist        Mid                FT                DE   \n",
       "1  Machine Learning Scientist     Senior                FT                JP   \n",
       "2           Big Data Engineer     Senior                FT                GB   \n",
       "3        Product Data Analyst        Mid                FT                HN   \n",
       "4   Machine Learning Engineer     Senior                FT                US   \n",
       "\n",
       "  Company_Size  \n",
       "0            L  \n",
       "1            S  \n",
       "2            M  \n",
       "3            S  \n",
       "4            L  "
      ]
     },
     "execution_count": 25,
     "metadata": {},
     "output_type": "execute_result"
    }
   ],
   "source": [
    "salaries.select_dtypes(\"object\").head()"
   ]
  },
  {
   "cell_type": "code",
   "execution_count": 26,
   "id": "66e30e39-374c-4170-90e3-429c24d6cad1",
   "metadata": {},
   "outputs": [
    {
     "data": {
      "text/plain": [
       "Designation\n",
       "Data Scientist                              143\n",
       "Data Engineer                               132\n",
       "Data Analyst                                 97\n",
       "Machine Learning Engineer                    41\n",
       "Research Scientist                           16\n",
       "Data Science Manager                         12\n",
       "Data Architect                               11\n",
       "Big Data Engineer                             8\n",
       "Machine Learning Scientist                    8\n",
       "Principal Data Scientist                      7\n",
       "AI Scientist                                  7\n",
       "Data Science Consultant                       7\n",
       "Director of Data Science                      7\n",
       "Data Analytics Manager                        7\n",
       "ML Engineer                                   6\n",
       "Computer Vision Engineer                      6\n",
       "BI Data Analyst                               6\n",
       "Lead Data Engineer                            6\n",
       "Data Engineering Manager                      5\n",
       "Business Data Analyst                         5\n",
       "Head of Data                                  5\n",
       "Applied Data Scientist                        5\n",
       "Applied Machine Learning Scientist            4\n",
       "Head of Data Science                          4\n",
       "Analytics Engineer                            4\n",
       "Data Analytics Engineer                       4\n",
       "Machine Learning Developer                    3\n",
       "Machine Learning Infrastructure Engineer      3\n",
       "Lead Data Scientist                           3\n",
       "Computer Vision Software Engineer             3\n",
       "Lead Data Analyst                             3\n",
       "Data Science Engineer                         3\n",
       "Principal Data Engineer                       3\n",
       "Principal Data Analyst                        2\n",
       "ETL Developer                                 2\n",
       "Product Data Analyst                          2\n",
       "Director of Data Engineering                  2\n",
       "Financial Data Analyst                        2\n",
       "Cloud Data Engineer                           2\n",
       "Lead Machine Learning Engineer                1\n",
       "NLP Engineer                                  1\n",
       "Head of Machine Learning                      1\n",
       "3D Computer Vision Researcher                 1\n",
       "Data Specialist                               1\n",
       "Staff Data Scientist                          1\n",
       "Big Data Architect                            1\n",
       "Finance Data Analyst                          1\n",
       "Marketing Data Analyst                        1\n",
       "Machine Learning Manager                      1\n",
       "Data Analytics Lead                           1\n",
       "Name: count, dtype: int64"
      ]
     },
     "execution_count": 26,
     "metadata": {},
     "output_type": "execute_result"
    }
   ],
   "source": [
    "# Job titles\n",
    "salaries[\"Designation\"].value_counts()"
   ]
  },
  {
   "cell_type": "code",
   "execution_count": 28,
   "id": "70b587b6-44ed-4225-b42f-1019f4e40b78",
   "metadata": {},
   "outputs": [
    {
     "data": {
      "text/plain": [
       "50"
      ]
     },
     "execution_count": 28,
     "metadata": {},
     "output_type": "execute_result"
    }
   ],
   "source": [
    "# count unique job titles\n",
    "salaries[\"Designation\"].nunique()"
   ]
  },
  {
   "cell_type": "code",
   "execution_count": 30,
   "id": "4a80f51a-2b80-4d30-953e-517aaab295ca",
   "metadata": {},
   "outputs": [
    {
     "data": {
      "text/plain": [
       "0                  Data Scientist\n",
       "1      Machine Learning Scientist\n",
       "2               Big Data Engineer\n",
       "3            Product Data Analyst\n",
       "4       Machine Learning Engineer\n",
       "                  ...            \n",
       "602                 Data Engineer\n",
       "603                 Data Engineer\n",
       "604                  Data Analyst\n",
       "605                  Data Analyst\n",
       "606                  AI Scientist\n",
       "Name: Designation, Length: 607, dtype: object"
      ]
     },
     "execution_count": 30,
     "metadata": {},
     "output_type": "execute_result"
    }
   ],
   "source": [
    "salaries[\"Designation\"]"
   ]
  },
  {
   "cell_type": "code",
   "execution_count": 31,
   "id": "23b2b737-9eb1-42a6-9ac1-5a8ee08dfb45",
   "metadata": {},
   "outputs": [
    {
     "data": {
      "text/plain": [
       "0       True\n",
       "1       True\n",
       "2      False\n",
       "3      False\n",
       "4      False\n",
       "       ...  \n",
       "602    False\n",
       "603    False\n",
       "604    False\n",
       "605    False\n",
       "606     True\n",
       "Name: Designation, Length: 607, dtype: bool"
      ]
     },
     "execution_count": 31,
     "metadata": {},
     "output_type": "execute_result"
    }
   ],
   "source": [
    "# Extracting value from categories using pandas.Series.str.contains()\n",
    "salaries[\"Designation\"].str.contains(\"Scientist\")\n"
   ]
  },
  {
   "cell_type": "code",
   "execution_count": 34,
   "id": "ee771088-7d6c-45a9-80d5-01c6c474e7eb",
   "metadata": {},
   "outputs": [
    {
     "data": {
      "text/plain": [
       "0      False\n",
       "1       True\n",
       "2      False\n",
       "3      False\n",
       "4       True\n",
       "       ...  \n",
       "602    False\n",
       "603    False\n",
       "604    False\n",
       "605    False\n",
       "606     True\n",
       "Name: Designation, Length: 607, dtype: bool"
      ]
     },
     "execution_count": 34,
     "metadata": {},
     "output_type": "execute_result"
    }
   ],
   "source": [
    "# Finding multiple phrases in string\n",
    "salaries[\"Designation\"].str.contains(\"Machine Learning|AI\")"
   ]
  },
  {
   "cell_type": "code",
   "execution_count": 35,
   "id": "f6f41a09-0d52-440f-ba5d-5e971e35f5ad",
   "metadata": {},
   "outputs": [
    {
     "data": {
      "text/plain": [
       "0       True\n",
       "1      False\n",
       "2      False\n",
       "3      False\n",
       "4      False\n",
       "       ...  \n",
       "602     True\n",
       "603     True\n",
       "604     True\n",
       "605     True\n",
       "606    False\n",
       "Name: Designation, Length: 607, dtype: bool"
      ]
     },
     "execution_count": 35,
     "metadata": {},
     "output_type": "execute_result"
    }
   ],
   "source": [
    "# Words on intreset: Any that start with data\n",
    "salaries[\"Designation\"].str.contains(\"^Data\")"
   ]
  },
  {
   "cell_type": "code",
   "execution_count": 36,
   "id": "fc90b178-2399-4efb-9cfc-aa68b01fe81a",
   "metadata": {},
   "outputs": [],
   "source": [
    "job_categories = [\n",
    "    \"Data Scientist\", \"Data Analytics\",\n",
    "    \"Data Engineering\", \"Machine Learning\",\n",
    "    \"Managerial\", \"Consultant\"\n",
    "]\n",
    "\n",
    "data_science = \"Data Science|NLP\"\n",
    "data_analyst = \"Analysit|Analytics\"\n",
    "data_engineer = \"Data Engineer|ETL|Architech|Infrastructure\"\n",
    "ml_engineer = \"Machine Learning|ML|Big Data|AI\"\n",
    "manager = \"Manager|Head|Director|Lead|Principal|Staff\"\n",
    "consultant=\"Consultant|Freelane\"\n",
    "\n",
    "conditions = [\n",
    "    (salaries[\"Designation\"].str.contains(data_science)),\n",
    "    (salaries[\"Designation\"].str.contains(data_analyst)),\n",
    "    (salaries[\"Designation\"].str.contains(data_engineer)),\n",
    "    (salaries[\"Designation\"].str.contains(ml_engineer)),\n",
    "    (salaries[\"Designation\"].str.contains(manager)),\n",
    "    (salaries[\"Designation\"].str.contains(consultant))\n",
    "]\n",
    "\n",
    "salaries[\"Job_Category\"] = np.select(conditions, \n",
    "                                    job_categories,\n",
    "                                    default=\"Other\")"
   ]
  },
  {
   "cell_type": "code",
   "execution_count": 37,
   "id": "dcff34b3-8104-41c2-8f37-964a472d9e20",
   "metadata": {},
   "outputs": [
    {
     "data": {
      "text/html": [
       "<div>\n",
       "<style scoped>\n",
       "    .dataframe tbody tr th:only-of-type {\n",
       "        vertical-align: middle;\n",
       "    }\n",
       "\n",
       "    .dataframe tbody tr th {\n",
       "        vertical-align: top;\n",
       "    }\n",
       "\n",
       "    .dataframe thead th {\n",
       "        text-align: right;\n",
       "    }\n",
       "</style>\n",
       "<table border=\"1\" class=\"dataframe\">\n",
       "  <thead>\n",
       "    <tr style=\"text-align: right;\">\n",
       "      <th></th>\n",
       "      <th>Designation</th>\n",
       "      <th>Job_Category</th>\n",
       "    </tr>\n",
       "  </thead>\n",
       "  <tbody>\n",
       "    <tr>\n",
       "      <th>0</th>\n",
       "      <td>Data Scientist</td>\n",
       "      <td>Other</td>\n",
       "    </tr>\n",
       "    <tr>\n",
       "      <th>1</th>\n",
       "      <td>Machine Learning Scientist</td>\n",
       "      <td>Machine Learning</td>\n",
       "    </tr>\n",
       "    <tr>\n",
       "      <th>2</th>\n",
       "      <td>Big Data Engineer</td>\n",
       "      <td>Data Engineering</td>\n",
       "    </tr>\n",
       "    <tr>\n",
       "      <th>3</th>\n",
       "      <td>Product Data Analyst</td>\n",
       "      <td>Other</td>\n",
       "    </tr>\n",
       "    <tr>\n",
       "      <th>4</th>\n",
       "      <td>Machine Learning Engineer</td>\n",
       "      <td>Machine Learning</td>\n",
       "    </tr>\n",
       "  </tbody>\n",
       "</table>\n",
       "</div>"
      ],
      "text/plain": [
       "                  Designation      Job_Category\n",
       "0              Data Scientist             Other\n",
       "1  Machine Learning Scientist  Machine Learning\n",
       "2           Big Data Engineer  Data Engineering\n",
       "3        Product Data Analyst             Other\n",
       "4   Machine Learning Engineer  Machine Learning"
      ]
     },
     "execution_count": 37,
     "metadata": {},
     "output_type": "execute_result"
    }
   ],
   "source": [
    "salaries[[\"Designation\", \"Job_Category\"]].head()"
   ]
  },
  {
   "cell_type": "code",
   "execution_count": 40,
   "id": "2b253ce5-942f-4150-9286-d0d24e7e79a9",
   "metadata": {},
   "outputs": [
    {
     "data": {
      "image/png": "[encoded data removed]",
      "text/plain": [
       "<Figure size 640x480 with 1 Axes>"
      ]
     },
     "metadata": {},
     "output_type": "display_data"
    }
   ],
   "source": [
    "# visializing job category frequency\n",
    "sns.countplot(data=salaries, x=\"Job_Category\", palette=\"tab10\")\n",
    "plt.show()"
   ]
  },
  {
   "cell_type": "markdown",
   "id": "f4b02e8f-fc30-4853-9e0d-b09f3b18910a",
   "metadata": {},
   "source": [
    "#### Exercise - Converting and analyzing categorical data"
   ]
  },
  {
   "cell_type": "markdown",
   "id": "f949e8ea-c078-4ef1-8a59-b7e1eab5a147",
   "metadata": {},
   "source": [
    "##### Finding the number of unique values"
   ]
  },
  {
   "cell_type": "markdown",
   "id": "25a347b4-c2fd-44aa-a1d2-57d4ba7169b2",
   "metadata": {},
   "source": [
    "You would like to practice some of the categorical data manipulation and analysis skills that you've just seen. To help identify which data could be reformatted to extract value, you are going to find out which non-numeric columns in the planes dataset have a large number of unique values."
   ]
  },
  {
   "cell_type": "code",
   "execution_count": 43,
   "id": "45eeeda9-798c-4cf9-9662-b16a927d8faf",
   "metadata": {
    "collapsed": true,
    "jupyter": {
     "outputs_hidden": true
    }
   },
   "outputs": [
    {
     "data": {
      "text/html": [
       "<div>\n",
       "<style scoped>\n",
       "    .dataframe tbody tr th:only-of-type {\n",
       "        vertical-align: middle;\n",
       "    }\n",
       "\n",
       "    .dataframe tbody tr th {\n",
       "        vertical-align: top;\n",
       "    }\n",
       "\n",
       "    .dataframe thead th {\n",
       "        text-align: right;\n",
       "    }\n",
       "</style>\n",
       "<table border=\"1\" class=\"dataframe\">\n",
       "  <thead>\n",
       "    <tr style=\"text-align: right;\">\n",
       "      <th></th>\n",
       "      <th>Airline</th>\n",
       "      <th>Date_of_Journey</th>\n",
       "      <th>Source</th>\n",
       "      <th>Destination</th>\n",
       "      <th>Route</th>\n",
       "      <th>Dep_Time</th>\n",
       "      <th>Arrival_Time</th>\n",
       "      <th>Duration</th>\n",
       "      <th>Total_Stops</th>\n",
       "    </tr>\n",
       "  </thead>\n",
       "  <tbody>\n",
       "    <tr>\n",
       "      <th>0</th>\n",
       "      <td>Jet Airways</td>\n",
       "      <td>9/06/2019</td>\n",
       "      <td>Delhi</td>\n",
       "      <td>Cochin</td>\n",
       "      <td>DEL → LKO → BOM → COK</td>\n",
       "      <td>09:25</td>\n",
       "      <td>04:25 10 Jun</td>\n",
       "      <td>19h</td>\n",
       "      <td>2 stops</td>\n",
       "    </tr>\n",
       "    <tr>\n",
       "      <th>1</th>\n",
       "      <td>IndiGo</td>\n",
       "      <td>12/05/2019</td>\n",
       "      <td>Kolkata</td>\n",
       "      <td>Banglore</td>\n",
       "      <td>CCU → NAG → BLR</td>\n",
       "      <td>18:05</td>\n",
       "      <td>23:30</td>\n",
       "      <td>5h 25m</td>\n",
       "      <td>1 stop</td>\n",
       "    </tr>\n",
       "    <tr>\n",
       "      <th>2</th>\n",
       "      <td>IndiGo</td>\n",
       "      <td>01/03/2019</td>\n",
       "      <td>Banglore</td>\n",
       "      <td>New Delhi</td>\n",
       "      <td>BLR → NAG → DEL</td>\n",
       "      <td>16:50</td>\n",
       "      <td>21:35</td>\n",
       "      <td>4h 45m</td>\n",
       "      <td>1 stop</td>\n",
       "    </tr>\n",
       "    <tr>\n",
       "      <th>3</th>\n",
       "      <td>SpiceJet</td>\n",
       "      <td>24/06/2019</td>\n",
       "      <td>Kolkata</td>\n",
       "      <td>Banglore</td>\n",
       "      <td>CCU → BLR</td>\n",
       "      <td>09:00</td>\n",
       "      <td>11:25</td>\n",
       "      <td>2h 25m</td>\n",
       "      <td>non-stop</td>\n",
       "    </tr>\n",
       "    <tr>\n",
       "      <th>4</th>\n",
       "      <td>Jet Airways</td>\n",
       "      <td>12/03/2019</td>\n",
       "      <td>Banglore</td>\n",
       "      <td>New Delhi</td>\n",
       "      <td>BLR → BOM → DEL</td>\n",
       "      <td>18:55</td>\n",
       "      <td>10:25 13 Mar</td>\n",
       "      <td>15h 30m</td>\n",
       "      <td>1 stop</td>\n",
       "    </tr>\n",
       "    <tr>\n",
       "      <th>...</th>\n",
       "      <td>...</td>\n",
       "      <td>...</td>\n",
       "      <td>...</td>\n",
       "      <td>...</td>\n",
       "      <td>...</td>\n",
       "      <td>...</td>\n",
       "      <td>...</td>\n",
       "      <td>...</td>\n",
       "      <td>...</td>\n",
       "    </tr>\n",
       "    <tr>\n",
       "      <th>10654</th>\n",
       "      <td>SpiceJet</td>\n",
       "      <td>21/05/2019</td>\n",
       "      <td>Banglore</td>\n",
       "      <td>Delhi</td>\n",
       "      <td>BLR → DEL</td>\n",
       "      <td>05:55</td>\n",
       "      <td>08:35</td>\n",
       "      <td>2h 40m</td>\n",
       "      <td>non-stop</td>\n",
       "    </tr>\n",
       "    <tr>\n",
       "      <th>10655</th>\n",
       "      <td>Air Asia</td>\n",
       "      <td>9/04/2019</td>\n",
       "      <td>Kolkata</td>\n",
       "      <td>Banglore</td>\n",
       "      <td>CCU → BLR</td>\n",
       "      <td>19:55</td>\n",
       "      <td>22:25</td>\n",
       "      <td>2h 30m</td>\n",
       "      <td>non-stop</td>\n",
       "    </tr>\n",
       "    <tr>\n",
       "      <th>10656</th>\n",
       "      <td>Air India</td>\n",
       "      <td>27/04/2019</td>\n",
       "      <td>Kolkata</td>\n",
       "      <td>Banglore</td>\n",
       "      <td>CCU → BLR</td>\n",
       "      <td>20:45</td>\n",
       "      <td>23:20</td>\n",
       "      <td>2h 35m</td>\n",
       "      <td>non-stop</td>\n",
       "    </tr>\n",
       "    <tr>\n",
       "      <th>10658</th>\n",
       "      <td>Vistara</td>\n",
       "      <td>01/03/2019</td>\n",
       "      <td>Banglore</td>\n",
       "      <td>New Delhi</td>\n",
       "      <td>BLR → DEL</td>\n",
       "      <td>11:30</td>\n",
       "      <td>14:10</td>\n",
       "      <td>2h 40m</td>\n",
       "      <td>non-stop</td>\n",
       "    </tr>\n",
       "    <tr>\n",
       "      <th>10659</th>\n",
       "      <td>Air India</td>\n",
       "      <td>9/05/2019</td>\n",
       "      <td>Delhi</td>\n",
       "      <td>Cochin</td>\n",
       "      <td>DEL → GOI → BOM → COK</td>\n",
       "      <td>10:55</td>\n",
       "      <td>19:15</td>\n",
       "      <td>8h 20m</td>\n",
       "      <td>2 stops</td>\n",
       "    </tr>\n",
       "  </tbody>\n",
       "</table>\n",
       "<p>8508 rows × 9 columns</p>\n",
       "</div>"
      ],
      "text/plain": [
       "           Airline Date_of_Journey    Source Destination  \\\n",
       "0      Jet Airways       9/06/2019     Delhi      Cochin   \n",
       "1           IndiGo      12/05/2019   Kolkata    Banglore   \n",
       "2           IndiGo      01/03/2019  Banglore   New Delhi   \n",
       "3         SpiceJet      24/06/2019   Kolkata    Banglore   \n",
       "4      Jet Airways      12/03/2019  Banglore   New Delhi   \n",
       "...            ...             ...       ...         ...   \n",
       "10654     SpiceJet      21/05/2019  Banglore       Delhi   \n",
       "10655     Air Asia       9/04/2019   Kolkata    Banglore   \n",
       "10656    Air India      27/04/2019   Kolkata    Banglore   \n",
       "10658      Vistara      01/03/2019  Banglore   New Delhi   \n",
       "10659    Air India       9/05/2019     Delhi      Cochin   \n",
       "\n",
       "                       Route Dep_Time  Arrival_Time Duration Total_Stops  \n",
       "0      DEL → LKO → BOM → COK    09:25  04:25 10 Jun      19h     2 stops  \n",
       "1            CCU → NAG → BLR    18:05         23:30   5h 25m      1 stop  \n",
       "2            BLR → NAG → DEL    16:50         21:35   4h 45m      1 stop  \n",
       "3                  CCU → BLR    09:00         11:25   2h 25m    non-stop  \n",
       "4            BLR → BOM → DEL    18:55  10:25 13 Mar  15h 30m      1 stop  \n",
       "...                      ...      ...           ...      ...         ...  \n",
       "10654              BLR → DEL    05:55         08:35   2h 40m    non-stop  \n",
       "10655              CCU → BLR    19:55         22:25   2h 30m    non-stop  \n",
       "10656              CCU → BLR    20:45         23:20   2h 35m    non-stop  \n",
       "10658              BLR → DEL    11:30         14:10   2h 40m    non-stop  \n",
       "10659  DEL → GOI → BOM → COK    10:55         19:15   8h 20m     2 stops  \n",
       "\n",
       "[8508 rows x 9 columns]"
      ]
     },
     "execution_count": 43,
     "metadata": {},
     "output_type": "execute_result"
    }
   ],
   "source": [
    "# Filter planes for columns that are of \"object\" data type.\n",
    "non_numeric = planes.select_dtypes(\"object\")\n",
    "non_numeric"
   ]
  },
  {
   "cell_type": "code",
   "execution_count": 46,
   "id": "f609cdd2-5ed9-4252-8f14-5e7a580babbc",
   "metadata": {},
   "outputs": [
    {
     "name": "stdout",
     "output_type": "stream",
     "text": [
      "Airline\n",
      "Date_of_Journey\n",
      "Source\n",
      "Destination\n",
      "Route\n",
      "Dep_Time\n",
      "Arrival_Time\n",
      "Duration\n",
      "Total_Stops\n"
     ]
    }
   ],
   "source": [
    "# Loop through the columns in the dataset.\n",
    "for feature in non_numeric.columns:\n",
    "    print(feature)"
   ]
  },
  {
   "cell_type": "code",
   "execution_count": 51,
   "id": "8e672b26-ba04-48eb-a1d3-edb2e0fe1e58",
   "metadata": {},
   "outputs": [
    {
     "name": "stdout",
     "output_type": "stream",
     "text": [
      "Number of unique values in Airline column: 8\n",
      "Number of unique values in Date_of_Journey column: 44\n",
      "Number of unique values in Source column: 5\n",
      "Number of unique values in Destination column: 6\n",
      "Number of unique values in Route column: 122\n",
      "Number of unique values in Dep_Time column: 218\n",
      "Number of unique values in Arrival_Time column: 1220\n",
      "Number of unique values in Duration column: 362\n",
      "Number of unique values in Total_Stops column: 5\n"
     ]
    }
   ],
   "source": [
    "# Add the column iterator to the print statement, then call the function to return the number of unique values in the column.\n",
    "for feature in non_numeric.columns:\n",
    "    print(f\"Number of unique values in {feature} column:\", non_numeric[feature].nunique())"
   ]
  },
  {
   "cell_type": "markdown",
   "id": "908ed058-be55-40b7-95bf-3dbbd02bb575",
   "metadata": {},
   "source": [
    "##### Flight duration categories"
   ]
  },
  {
   "cell_type": "code",
   "execution_count": null,
   "id": "2279e4ac-8b45-4e14-8600-e1450e9d5890",
   "metadata": {},
   "outputs": [],
   "source": []
  }
 ],
 "metadata": {
  "kernelspec": {
   "display_name": "Python 3 (ipykernel)",
   "language": "python",
   "name": "python3"
  },
  "language_info": {
   "codemirror_mode": {
    "name": "ipython",
    "version": 3
   },
   "file_extension": ".py",
   "mimetype": "text/x-python",
   "name": "python",
   "nbconvert_exporter": "python",
   "pygments_lexer": "ipython3",
   "version": "3.12.7"
  }
 },
 "nbformat": 4,
 "nbformat_minor": 5
}
