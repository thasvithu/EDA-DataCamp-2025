{
 "cells": [
  {
   "cell_type": "markdown",
   "id": "532fda5d-1dbd-46a0-828c-418e4a09ad00",
   "metadata": {},
   "source": [
    "### 2. Data Cleaning and Imputation"
   ]
  },
  {
   "cell_type": "markdown",
   "id": "62ce93f1-3919-442e-acb6-19ada8d4bb86",
   "metadata": {
    "jp-MarkdownHeadingCollapsed": true
   },
   "source": [
    "#### Addressing missing data"
   ]
  },
  {
   "cell_type": "code",
   "execution_count": 1,
   "id": "264a13fb-0d1b-48c7-97a7-224d3bc66d41",
   "metadata": {},
   "outputs": [],
   "source": [
    "import pandas as pd\n",
    "from pathlib import Path\n",
    "import seaborn as sns\n",
    "import matplotlib.pyplot as plt\n",
    "import numpy as np\n",
    "import warnings\n",
    "warnings.filterwarnings(\"ignore\", category=FutureWarning)\n"
   ]
  },
  {
   "cell_type": "code",
   "execution_count": 2,
   "id": "8fd503e7-161c-4feb-98ee-b7b88a6a1a03",
   "metadata": {},
   "outputs": [],
   "source": [
    "# path of the dataset\n",
    "path = Path(\"G:/Data Science/EDA/EDA-DataCamp-2025/datasets/ds_salaries_clean.csv\")\n",
    "# Load the dataset\n",
    "salaries = pd.read_csv(path)"
   ]
  },
  {
   "cell_type": "code",
   "execution_count": 3,
   "id": "a208895b-08a0-4c40-82ee-b3033e2af238",
   "metadata": {},
   "outputs": [
    {
     "name": "stdout",
     "output_type": "stream",
     "text": [
      "<class 'pandas.core.frame.DataFrame'>\n",
      "RangeIndex: 607 entries, 0 to 606\n",
      "Data columns (total 8 columns):\n",
      " #   Column                Non-Null Count  Dtype  \n",
      "---  ------                --------------  -----  \n",
      " 0   Working_Year          607 non-null    int64  \n",
      " 1   Designation           607 non-null    object \n",
      " 2   Experience            607 non-null    object \n",
      " 3   Employment_Status     607 non-null    object \n",
      " 4   Employee_Location     607 non-null    object \n",
      " 5   Company_Size          607 non-null    object \n",
      " 6   Remote_Working_Ratio  607 non-null    int64  \n",
      " 7   Salary_USD            607 non-null    float64\n",
      "dtypes: float64(1), int64(2), object(5)\n",
      "memory usage: 38.1+ KB\n"
     ]
    }
   ],
   "source": [
    "# See the quick summary of the dataset\n",
    "salaries.info()"
   ]
  },
  {
   "cell_type": "code",
   "execution_count": 4,
   "id": "98ed704c-e9af-4abb-9ba1-fb7ece80411c",
   "metadata": {},
   "outputs": [
    {
     "data": {
      "image/png": "[encoded data removed]",
      "text/plain": [
       "<Figure size 640x480 with 1 Axes>"
      ]
     },
     "metadata": {},
     "output_type": "display_data"
    }
   ],
   "source": [
    "# Salary by experience level\n",
    "sns.boxplot(data=salaries, x=\"Experience\", y=\"Salary_USD\", palette=\"tab10\")\n",
    "plt.show()"
   ]
  },
  {
   "cell_type": "code",
   "execution_count": 5,
   "id": "eaf54f79-4ec1-4313-b80a-062a9cb16791",
   "metadata": {},
   "outputs": [
    {
     "data": {
      "text/plain": [
       "Working_Year            0\n",
       "Designation             0\n",
       "Experience              0\n",
       "Employment_Status       0\n",
       "Employee_Location       0\n",
       "Company_Size            0\n",
       "Remote_Working_Ratio    0\n",
       "Salary_USD              0\n",
       "dtype: int64"
      ]
     },
     "execution_count": 5,
     "metadata": {},
     "output_type": "execute_result"
    }
   ],
   "source": [
    "# checking for missing values\n",
    "salaries.isna().sum()"
   ]
  },
  {
   "cell_type": "code",
   "execution_count": 6,
   "id": "d50d770d-a993-4b6a-b4db-0b009bab4b89",
   "metadata": {},
   "outputs": [
    {
     "data": {
      "text/plain": [
       "30.35"
      ]
     },
     "execution_count": 6,
     "metadata": {},
     "output_type": "execute_result"
    }
   ],
   "source": [
    "# Dropping missing values\n",
    "threshold = len(salaries) * 0.05\n",
    "threshold"
   ]
  },
  {
   "cell_type": "code",
   "execution_count": 7,
   "id": "690e42f1-5c04-4d42-b1c2-b42cbf606f40",
   "metadata": {},
   "outputs": [
    {
     "data": {
      "text/plain": [
       "Index(['Working_Year', 'Designation', 'Experience', 'Employment_Status',\n",
       "       'Employee_Location', 'Company_Size', 'Remote_Working_Ratio',\n",
       "       'Salary_USD'],\n",
       "      dtype='object')"
      ]
     },
     "execution_count": 7,
     "metadata": {},
     "output_type": "execute_result"
    }
   ],
   "source": [
    "cols_to_drop = salaries.columns[salaries.isna().sum() <= threshold]\n",
    "cols_to_drop"
   ]
  },
  {
   "cell_type": "markdown",
   "id": "2d91bd3e-bb38-405c-85ac-2335f2946862",
   "metadata": {
    "jp-MarkdownHeadingCollapsed": true
   },
   "source": [
    "#### Exercise - Addressing missing data"
   ]
  },
  {
   "cell_type": "markdown",
   "id": "48ee383b-14c6-4fd1-9313-fe8cccda4737",
   "metadata": {},
   "source": [
    "##### Dealing with missing data"
   ]
  },
  {
   "cell_type": "markdown",
   "id": "2b756aac-88ef-42f7-a198-d430c1a9f69c",
   "metadata": {},
   "source": [
    "It is important to deal with missing data before starting your analysis.\n",
    "\n",
    "One approach is to drop missing values if they account for a small proportion, typically five percent, of your data.\n",
    "\n",
    "Working with a dataset on plane ticket prices, stored as a pandas DataFrame called planes, you'll need to count the number of missing values across all columns, calculate five percent of all values, use this threshold to remove observations, and check how many missing values remain in the dataset."
   ]
  },
  {
   "cell_type": "code",
   "execution_count": 8,
   "id": "7391f797-5d5a-4bf5-b35e-d4851802cde2",
   "metadata": {},
   "outputs": [
    {
     "data": {
      "text/html": [
       "<div>\n",
       "<style scoped>\n",
       "    .dataframe tbody tr th:only-of-type {\n",
       "        vertical-align: middle;\n",
       "    }\n",
       "\n",
       "    .dataframe tbody tr th {\n",
       "        vertical-align: top;\n",
       "    }\n",
       "\n",
       "    .dataframe thead th {\n",
       "        text-align: right;\n",
       "    }\n",
       "</style>\n",
       "<table border=\"1\" class=\"dataframe\">\n",
       "  <thead>\n",
       "    <tr style=\"text-align: right;\">\n",
       "      <th></th>\n",
       "      <th>Airline</th>\n",
       "      <th>Date_of_Journey</th>\n",
       "      <th>Source</th>\n",
       "      <th>Destination</th>\n",
       "      <th>Route</th>\n",
       "      <th>Dep_Time</th>\n",
       "      <th>Arrival_Time</th>\n",
       "      <th>Duration</th>\n",
       "      <th>Total_Stops</th>\n",
       "      <th>Additional_Info</th>\n",
       "      <th>Price</th>\n",
       "    </tr>\n",
       "  </thead>\n",
       "  <tbody>\n",
       "    <tr>\n",
       "      <th>0</th>\n",
       "      <td>Jet Airways</td>\n",
       "      <td>9/06/2019</td>\n",
       "      <td>Delhi</td>\n",
       "      <td>Cochin</td>\n",
       "      <td>DEL → LKO → BOM → COK</td>\n",
       "      <td>09:25</td>\n",
       "      <td>04:25 10 Jun</td>\n",
       "      <td>19h</td>\n",
       "      <td>2 stops</td>\n",
       "      <td>No info</td>\n",
       "      <td>13882.0</td>\n",
       "    </tr>\n",
       "    <tr>\n",
       "      <th>1</th>\n",
       "      <td>IndiGo</td>\n",
       "      <td>12/05/2019</td>\n",
       "      <td>Kolkata</td>\n",
       "      <td>Banglore</td>\n",
       "      <td>CCU → NAG → BLR</td>\n",
       "      <td>18:05</td>\n",
       "      <td>23:30</td>\n",
       "      <td>5h 25m</td>\n",
       "      <td>1 stop</td>\n",
       "      <td>No info</td>\n",
       "      <td>6218.0</td>\n",
       "    </tr>\n",
       "  </tbody>\n",
       "</table>\n",
       "</div>"
      ],
      "text/plain": [
       "       Airline Date_of_Journey   Source Destination                  Route  \\\n",
       "0  Jet Airways       9/06/2019    Delhi      Cochin  DEL → LKO → BOM → COK   \n",
       "1       IndiGo      12/05/2019  Kolkata    Banglore        CCU → NAG → BLR   \n",
       "\n",
       "  Dep_Time  Arrival_Time Duration Total_Stops Additional_Info    Price  \n",
       "0    09:25  04:25 10 Jun      19h     2 stops         No info  13882.0  \n",
       "1    18:05         23:30   5h 25m      1 stop         No info   6218.0  "
      ]
     },
     "execution_count": 8,
     "metadata": {},
     "output_type": "execute_result"
    }
   ],
   "source": [
    "plane_path = Path(\"G:/Data Science/EDA/EDA-DataCamp-2025/datasets/planes.csv\")\n",
    "planes = pd.read_csv(plane_path)\n",
    "planes.head(n=2)"
   ]
  },
  {
   "cell_type": "code",
   "execution_count": 9,
   "id": "73109497-e319-4295-9f33-ab757a621129",
   "metadata": {},
   "outputs": [
    {
     "data": {
      "text/plain": [
       "(10660, 11)"
      ]
     },
     "execution_count": 9,
     "metadata": {},
     "output_type": "execute_result"
    }
   ],
   "source": [
    "planes.shape"
   ]
  },
  {
   "cell_type": "code",
   "execution_count": 10,
   "id": "63cc6b14-431f-4f44-9cc1-3e9fb624ff9f",
   "metadata": {},
   "outputs": [
    {
     "data": {
      "text/plain": [
       "Airline            427\n",
       "Date_of_Journey    322\n",
       "Source             187\n",
       "Destination        347\n",
       "Route              256\n",
       "Dep_Time           260\n",
       "Arrival_Time       194\n",
       "Duration           214\n",
       "Total_Stops        212\n",
       "Additional_Info    589\n",
       "Price              616\n",
       "dtype: int64"
      ]
     },
     "execution_count": 10,
     "metadata": {},
     "output_type": "execute_result"
    }
   ],
   "source": [
    "# Print the number of missing values in each column of the DataFrame.\n",
    "planes.isnull().sum()"
   ]
  },
  {
   "cell_type": "code",
   "execution_count": 11,
   "id": "43410318-7235-4712-b4e2-d243e321ffe0",
   "metadata": {},
   "outputs": [
    {
     "data": {
      "text/plain": [
       "533.0"
      ]
     },
     "execution_count": 11,
     "metadata": {},
     "output_type": "execute_result"
    }
   ],
   "source": [
    "# Calculate how many observations five percent of the planes DataFrame is equal to.\n",
    "# Lets define a threshold\n",
    "threshold = len(planes) * 0.05\n",
    "threshold"
   ]
  },
  {
   "cell_type": "code",
   "execution_count": 12,
   "id": "97a98456-9f66-4d34-b10e-ec2828eda808",
   "metadata": {},
   "outputs": [
    {
     "data": {
      "text/plain": [
       "Index(['Airline', 'Date_of_Journey', 'Source', 'Destination', 'Route',\n",
       "       'Dep_Time', 'Arrival_Time', 'Duration', 'Total_Stops'],\n",
       "      dtype='object')"
      ]
     },
     "execution_count": 12,
     "metadata": {},
     "output_type": "execute_result"
    }
   ],
   "source": [
    "# Create cols_to_drop by applying boolean indexing to columns of the DataFrame with missing values less than or equal to the threshold.\n",
    "cols_to_drop = planes.columns[planes.isnull().sum() <= threshold]\n",
    "cols_to_drop"
   ]
  },
  {
   "cell_type": "code",
   "execution_count": 13,
   "id": "f652ee3c-d489-4bac-b020-ffb33e12b0a5",
   "metadata": {},
   "outputs": [],
   "source": [
    "# Use this filter to remove missing values and save the updated DataFrame.\n",
    "planes.dropna(subset=cols_to_drop, inplace=True)"
   ]
  },
  {
   "cell_type": "code",
   "execution_count": 14,
   "id": "ba830e19-53ec-46d7-9c19-2ecd426b9afe",
   "metadata": {},
   "outputs": [
    {
     "data": {
      "text/plain": [
       "Airline              0\n",
       "Date_of_Journey      0\n",
       "Source               0\n",
       "Destination          0\n",
       "Route                0\n",
       "Dep_Time             0\n",
       "Arrival_Time         0\n",
       "Duration             0\n",
       "Total_Stops          0\n",
       "Additional_Info    300\n",
       "Price              368\n",
       "dtype: int64"
      ]
     },
     "execution_count": 14,
     "metadata": {},
     "output_type": "execute_result"
    }
   ],
   "source": [
    "planes.isna().sum()"
   ]
  },
  {
   "cell_type": "markdown",
   "id": "91c33578-a9d7-4252-8c77-3e77b017940a",
   "metadata": {},
   "source": [
    "##### Strategies for remaining missing data"
   ]
  },
  {
   "cell_type": "markdown",
   "id": "c95f444b-5e1a-4d58-b827-9d0f27c2f64c",
   "metadata": {},
   "source": [
    "The five percent rule has worked nicely for your planes dataset, eliminating missing values from nine out of 11 columns!\n",
    "\n",
    "Now, you need to decide what to do with the \"Additional_Info\" and \"Price\" columns, which are missing 300 and 368 values respectively.\n",
    "\n",
    "You'll first take a look at what \"Additional_Info\" contains, then visualize the price of plane tickets by different airlines."
   ]
  },
  {
   "cell_type": "code",
   "execution_count": 15,
   "id": "25968676-d72f-4ae1-9db9-88c4238cf57a",
   "metadata": {},
   "outputs": [
    {
     "data": {
      "text/plain": [
       "Additional_Info\n",
       "No info                         6399\n",
       "In-flight meal not included     1525\n",
       "No check-in baggage included     258\n",
       "1 Long layover                    14\n",
       "Change airports                    7\n",
       "No Info                            2\n",
       "Business class                     1\n",
       "Red-eye flight                     1\n",
       "2 Long layover                     1\n",
       "Name: count, dtype: int64"
      ]
     },
     "execution_count": 15,
     "metadata": {},
     "output_type": "execute_result"
    }
   ],
   "source": [
    "# Print the values and frequencies of \"Additional_Info\"\n",
    "planes[\"Additional_Info\"].value_counts()"
   ]
  },
  {
   "cell_type": "code",
   "execution_count": 16,
   "id": "6f1fb96c-8cd8-47ba-9320-6c3bad565520",
   "metadata": {},
   "outputs": [
    {
     "data": {
      "image/png": "[encoded data removed]",
      "text/plain": [
       "<Figure size 1200x800 with 1 Axes>"
      ]
     },
     "metadata": {},
     "output_type": "display_data"
    }
   ],
   "source": [
    "# Create a boxplot of \"Price\" versus \"Airline\".\n",
    "plt.figure(figsize=(12, 8))\n",
    "sns.boxplot(data=planes, x=\"Airline\", y=\"Price\", palette=\"tab10\")\n",
    "plt.show()"
   ]
  },
  {
   "cell_type": "code",
   "execution_count": 17,
   "id": "79f5970e-e44a-43b7-a59d-8e033ec3a93c",
   "metadata": {},
   "outputs": [
    {
     "data": {
      "text/plain": [
       "<Axes: xlabel='Price'>"
      ]
     },
     "execution_count": 17,
     "metadata": {},
     "output_type": "execute_result"
    },
    {
     "data": {
      "image/png": "[encoded data removed]",
      "text/plain": [
       "<Figure size 640x480 with 1 Axes>"
      ]
     },
     "metadata": {},
     "output_type": "display_data"
    }
   ],
   "source": [
    "# this is for my understanding about the price \n",
    "sns.boxplot(data=planes, x=\"Price\")"
   ]
  },
  {
   "cell_type": "code",
   "execution_count": 18,
   "id": "39ee7a7d-5628-4575-a080-67a89678e9c2",
   "metadata": {},
   "outputs": [],
   "source": [
    "# How should you deal with the missing values in \"Additional_Info\" and \"Price\"?\n",
    "# Ans : Remove the \"Additional_Info\" column and impute the median by \"Airline\" for missing values of \"Price\"\n",
    "planes.drop(\"Additional_Info\", axis=1, inplace=True)"
   ]
  },
  {
   "cell_type": "markdown",
   "id": "86259eaa-4c72-446c-9e3b-438d3904bb3e",
   "metadata": {},
   "source": [
    "##### Imputing missing plane prices"
   ]
  },
  {
   "cell_type": "markdown",
   "id": "9bf1fa8d-b438-426b-a84e-e0198cc3623b",
   "metadata": {},
   "source": [
    "Now there's just one column with missing values left!\n",
    "\n",
    "You've removed the \"Additional_Info\" column from planes—the last step is to impute the missing data in the \"Price\" column of the dataset.\n",
    "\n",
    "As a reminder, you generated this boxplot, which suggested that imputing the median price based on the \"Airline\" is a solid approach!"
   ]
  },
  {
   "cell_type": "code",
   "execution_count": 19,
   "id": "bd7ada99-2d3b-4f16-909a-ee50ae50d597",
   "metadata": {},
   "outputs": [
    {
     "data": {
      "text/plain": [
       "Airline\n",
       "Air Asia              5192.0\n",
       "Air India             9443.0\n",
       "GoAir                 5003.5\n",
       "IndiGo                5054.0\n",
       "Jet Airways          11507.0\n",
       "Multiple carriers    10197.0\n",
       "SpiceJet              3873.0\n",
       "Vistara               8028.0\n",
       "Name: Price, dtype: float64"
      ]
     },
     "execution_count": 19,
     "metadata": {},
     "output_type": "execute_result"
    }
   ],
   "source": [
    "# Group planes by airline and calculate the median price.\n",
    "airline_prices = planes.groupby(\"Airline\")[\"Price\"].median()\n",
    "airline_prices"
   ]
  },
  {
   "cell_type": "code",
   "execution_count": 20,
   "id": "17faf618-d56c-42b5-938c-4169889d6c39",
   "metadata": {},
   "outputs": [
    {
     "data": {
      "text/plain": [
       "{'Air Asia': 5192.0,\n",
       " 'Air India': 9443.0,\n",
       " 'GoAir': 5003.5,\n",
       " 'IndiGo': 5054.0,\n",
       " 'Jet Airways': 11507.0,\n",
       " 'Multiple carriers': 10197.0,\n",
       " 'SpiceJet': 3873.0,\n",
       " 'Vistara': 8028.0}"
      ]
     },
     "execution_count": 20,
     "metadata": {},
     "output_type": "execute_result"
    }
   ],
   "source": [
    "# Convert the grouped median prices to a dictionary.\n",
    "prices_dict = airline_prices.to_dict()\n",
    "prices_dict"
   ]
  },
  {
   "cell_type": "code",
   "execution_count": 21,
   "id": "b8b277f7-6b17-4856-8b7c-4a5c658376c6",
   "metadata": {},
   "outputs": [],
   "source": [
    "# Conditionally impute missing values for \"Price\" by mapping values in the \"Airline\" column based on prices_dict.\n",
    "planes[\"Price\"] = planes[\"Price\"].fillna(planes[\"Airline\"].map(prices_dict))"
   ]
  },
  {
   "cell_type": "code",
   "execution_count": 22,
   "id": "e583dd0d-14c6-41e9-b4eb-fc8784355789",
   "metadata": {},
   "outputs": [
    {
     "data": {
      "text/plain": [
       "Airline            0\n",
       "Date_of_Journey    0\n",
       "Source             0\n",
       "Destination        0\n",
       "Route              0\n",
       "Dep_Time           0\n",
       "Arrival_Time       0\n",
       "Duration           0\n",
       "Total_Stops        0\n",
       "Price              0\n",
       "dtype: int64"
      ]
     },
     "execution_count": 22,
     "metadata": {},
     "output_type": "execute_result"
    }
   ],
   "source": [
    "# check final is there any null values in dataset\n",
    "planes.isna().sum()"
   ]
  },
  {
   "cell_type": "markdown",
   "id": "a30c46ac-52a2-40d4-846a-cdddf4062e70",
   "metadata": {
    "jp-MarkdownHeadingCollapsed": true
   },
   "source": [
    "#### Converting and analyzing categorical data"
   ]
  },
  {
   "cell_type": "code",
   "execution_count": 23,
   "id": "7823cce2-062c-4f36-82ba-af1102da27ec",
   "metadata": {},
   "outputs": [
    {
     "data": {
      "text/html": [
       "<div>\n",
       "<style scoped>\n",
       "    .dataframe tbody tr th:only-of-type {\n",
       "        vertical-align: middle;\n",
       "    }\n",
       "\n",
       "    .dataframe tbody tr th {\n",
       "        vertical-align: top;\n",
       "    }\n",
       "\n",
       "    .dataframe thead th {\n",
       "        text-align: right;\n",
       "    }\n",
       "</style>\n",
       "<table border=\"1\" class=\"dataframe\">\n",
       "  <thead>\n",
       "    <tr style=\"text-align: right;\">\n",
       "      <th></th>\n",
       "      <th>Designation</th>\n",
       "      <th>Experience</th>\n",
       "      <th>Employment_Status</th>\n",
       "      <th>Employee_Location</th>\n",
       "      <th>Company_Size</th>\n",
       "    </tr>\n",
       "  </thead>\n",
       "  <tbody>\n",
       "    <tr>\n",
       "      <th>0</th>\n",
       "      <td>Data Scientist</td>\n",
       "      <td>Mid</td>\n",
       "      <td>FT</td>\n",
       "      <td>DE</td>\n",
       "      <td>L</td>\n",
       "    </tr>\n",
       "    <tr>\n",
       "      <th>1</th>\n",
       "      <td>Machine Learning Scientist</td>\n",
       "      <td>Senior</td>\n",
       "      <td>FT</td>\n",
       "      <td>JP</td>\n",
       "      <td>S</td>\n",
       "    </tr>\n",
       "    <tr>\n",
       "      <th>2</th>\n",
       "      <td>Big Data Engineer</td>\n",
       "      <td>Senior</td>\n",
       "      <td>FT</td>\n",
       "      <td>GB</td>\n",
       "      <td>M</td>\n",
       "    </tr>\n",
       "    <tr>\n",
       "      <th>3</th>\n",
       "      <td>Product Data Analyst</td>\n",
       "      <td>Mid</td>\n",
       "      <td>FT</td>\n",
       "      <td>HN</td>\n",
       "      <td>S</td>\n",
       "    </tr>\n",
       "    <tr>\n",
       "      <th>4</th>\n",
       "      <td>Machine Learning Engineer</td>\n",
       "      <td>Senior</td>\n",
       "      <td>FT</td>\n",
       "      <td>US</td>\n",
       "      <td>L</td>\n",
       "    </tr>\n",
       "  </tbody>\n",
       "</table>\n",
       "</div>"
      ],
      "text/plain": [
       "                  Designation Experience Employment_Status Employee_Location  \\\n",
       "0              Data Scientist        Mid                FT                DE   \n",
       "1  Machine Learning Scientist     Senior                FT                JP   \n",
       "2           Big Data Engineer     Senior                FT                GB   \n",
       "3        Product Data Analyst        Mid                FT                HN   \n",
       "4   Machine Learning Engineer     Senior                FT                US   \n",
       "\n",
       "  Company_Size  \n",
       "0            L  \n",
       "1            S  \n",
       "2            M  \n",
       "3            S  \n",
       "4            L  "
      ]
     },
     "execution_count": 23,
     "metadata": {},
     "output_type": "execute_result"
    }
   ],
   "source": [
    "salaries.select_dtypes(\"object\").head()"
   ]
  },
  {
   "cell_type": "code",
   "execution_count": 24,
   "id": "66e30e39-374c-4170-90e3-429c24d6cad1",
   "metadata": {},
   "outputs": [
    {
     "data": {
      "text/plain": [
       "Designation\n",
       "Data Scientist                              143\n",
       "Data Engineer                               132\n",
       "Data Analyst                                 97\n",
       "Machine Learning Engineer                    41\n",
       "Research Scientist                           16\n",
       "Data Science Manager                         12\n",
       "Data Architect                               11\n",
       "Big Data Engineer                             8\n",
       "Machine Learning Scientist                    8\n",
       "Principal Data Scientist                      7\n",
       "AI Scientist                                  7\n",
       "Data Science Consultant                       7\n",
       "Director of Data Science                      7\n",
       "Data Analytics Manager                        7\n",
       "ML Engineer                                   6\n",
       "Computer Vision Engineer                      6\n",
       "BI Data Analyst                               6\n",
       "Lead Data Engineer                            6\n",
       "Data Engineering Manager                      5\n",
       "Business Data Analyst                         5\n",
       "Head of Data                                  5\n",
       "Applied Data Scientist                        5\n",
       "Applied Machine Learning Scientist            4\n",
       "Head of Data Science                          4\n",
       "Analytics Engineer                            4\n",
       "Data Analytics Engineer                       4\n",
       "Machine Learning Developer                    3\n",
       "Machine Learning Infrastructure Engineer      3\n",
       "Lead Data Scientist                           3\n",
       "Computer Vision Software Engineer             3\n",
       "Lead Data Analyst                             3\n",
       "Data Science Engineer                         3\n",
       "Principal Data Engineer                       3\n",
       "Principal Data Analyst                        2\n",
       "ETL Developer                                 2\n",
       "Product Data Analyst                          2\n",
       "Director of Data Engineering                  2\n",
       "Financial Data Analyst                        2\n",
       "Cloud Data Engineer                           2\n",
       "Lead Machine Learning Engineer                1\n",
       "NLP Engineer                                  1\n",
       "Head of Machine Learning                      1\n",
       "3D Computer Vision Researcher                 1\n",
       "Data Specialist                               1\n",
       "Staff Data Scientist                          1\n",
       "Big Data Architect                            1\n",
       "Finance Data Analyst                          1\n",
       "Marketing Data Analyst                        1\n",
       "Machine Learning Manager                      1\n",
       "Data Analytics Lead                           1\n",
       "Name: count, dtype: int64"
      ]
     },
     "execution_count": 24,
     "metadata": {},
     "output_type": "execute_result"
    }
   ],
   "source": [
    "# Job titles\n",
    "salaries[\"Designation\"].value_counts()"
   ]
  },
  {
   "cell_type": "code",
   "execution_count": 25,
   "id": "70b587b6-44ed-4225-b42f-1019f4e40b78",
   "metadata": {},
   "outputs": [
    {
     "data": {
      "text/plain": [
       "50"
      ]
     },
     "execution_count": 25,
     "metadata": {},
     "output_type": "execute_result"
    }
   ],
   "source": [
    "# count unique job titles\n",
    "salaries[\"Designation\"].nunique()"
   ]
  },
  {
   "cell_type": "code",
   "execution_count": 26,
   "id": "4a80f51a-2b80-4d30-953e-517aaab295ca",
   "metadata": {},
   "outputs": [
    {
     "data": {
      "text/plain": [
       "0                  Data Scientist\n",
       "1      Machine Learning Scientist\n",
       "2               Big Data Engineer\n",
       "3            Product Data Analyst\n",
       "4       Machine Learning Engineer\n",
       "                  ...            \n",
       "602                 Data Engineer\n",
       "603                 Data Engineer\n",
       "604                  Data Analyst\n",
       "605                  Data Analyst\n",
       "606                  AI Scientist\n",
       "Name: Designation, Length: 607, dtype: object"
      ]
     },
     "execution_count": 26,
     "metadata": {},
     "output_type": "execute_result"
    }
   ],
   "source": [
    "salaries[\"Designation\"]"
   ]
  },
  {
   "cell_type": "code",
   "execution_count": 27,
   "id": "23b2b737-9eb1-42a6-9ac1-5a8ee08dfb45",
   "metadata": {},
   "outputs": [
    {
     "data": {
      "text/plain": [
       "0       True\n",
       "1       True\n",
       "2      False\n",
       "3      False\n",
       "4      False\n",
       "       ...  \n",
       "602    False\n",
       "603    False\n",
       "604    False\n",
       "605    False\n",
       "606     True\n",
       "Name: Designation, Length: 607, dtype: bool"
      ]
     },
     "execution_count": 27,
     "metadata": {},
     "output_type": "execute_result"
    }
   ],
   "source": [
    "# Extracting value from categories using pandas.Series.str.contains()\n",
    "salaries[\"Designation\"].str.contains(\"Scientist\")\n"
   ]
  },
  {
   "cell_type": "code",
   "execution_count": 28,
   "id": "ee771088-7d6c-45a9-80d5-01c6c474e7eb",
   "metadata": {},
   "outputs": [
    {
     "data": {
      "text/plain": [
       "0      False\n",
       "1       True\n",
       "2      False\n",
       "3      False\n",
       "4       True\n",
       "       ...  \n",
       "602    False\n",
       "603    False\n",
       "604    False\n",
       "605    False\n",
       "606     True\n",
       "Name: Designation, Length: 607, dtype: bool"
      ]
     },
     "execution_count": 28,
     "metadata": {},
     "output_type": "execute_result"
    }
   ],
   "source": [
    "# Finding multiple phrases in string\n",
    "salaries[\"Designation\"].str.contains(\"Machine Learning|AI\")"
   ]
  },
  {
   "cell_type": "code",
   "execution_count": 29,
   "id": "f6f41a09-0d52-440f-ba5d-5e971e35f5ad",
   "metadata": {},
   "outputs": [
    {
     "data": {
      "text/plain": [
       "0       True\n",
       "1      False\n",
       "2      False\n",
       "3      False\n",
       "4      False\n",
       "       ...  \n",
       "602     True\n",
       "603     True\n",
       "604     True\n",
       "605     True\n",
       "606    False\n",
       "Name: Designation, Length: 607, dtype: bool"
      ]
     },
     "execution_count": 29,
     "metadata": {},
     "output_type": "execute_result"
    }
   ],
   "source": [
    "# Words on intreset: Any that start with data\n",
    "salaries[\"Designation\"].str.contains(\"^Data\")"
   ]
  },
  {
   "cell_type": "code",
   "execution_count": 30,
   "id": "fc90b178-2399-4efb-9cfc-aa68b01fe81a",
   "metadata": {},
   "outputs": [],
   "source": [
    "job_categories = [\n",
    "    \"Data Scientist\", \"Data Analytics\",\n",
    "    \"Data Engineering\", \"Machine Learning\",\n",
    "    \"Managerial\", \"Consultant\"\n",
    "]\n",
    "\n",
    "data_science = \"Data Science|NLP\"\n",
    "data_analyst = \"Analysit|Analytics\"\n",
    "data_engineer = \"Data Engineer|ETL|Architech|Infrastructure\"\n",
    "ml_engineer = \"Machine Learning|ML|Big Data|AI\"\n",
    "manager = \"Manager|Head|Director|Lead|Principal|Staff\"\n",
    "consultant=\"Consultant|Freelane\"\n",
    "\n",
    "conditions = [\n",
    "    (salaries[\"Designation\"].str.contains(data_science)),\n",
    "    (salaries[\"Designation\"].str.contains(data_analyst)),\n",
    "    (salaries[\"Designation\"].str.contains(data_engineer)),\n",
    "    (salaries[\"Designation\"].str.contains(ml_engineer)),\n",
    "    (salaries[\"Designation\"].str.contains(manager)),\n",
    "    (salaries[\"Designation\"].str.contains(consultant))\n",
    "]\n",
    "\n",
    "salaries[\"Job_Category\"] = np.select(conditions, \n",
    "                                    job_categories,\n",
    "                                    default=\"Other\")"
   ]
  },
  {
   "cell_type": "code",
   "execution_count": 31,
   "id": "dcff34b3-8104-41c2-8f37-964a472d9e20",
   "metadata": {},
   "outputs": [
    {
     "data": {
      "text/html": [
       "<div>\n",
       "<style scoped>\n",
       "    .dataframe tbody tr th:only-of-type {\n",
       "        vertical-align: middle;\n",
       "    }\n",
       "\n",
       "    .dataframe tbody tr th {\n",
       "        vertical-align: top;\n",
       "    }\n",
       "\n",
       "    .dataframe thead th {\n",
       "        text-align: right;\n",
       "    }\n",
       "</style>\n",
       "<table border=\"1\" class=\"dataframe\">\n",
       "  <thead>\n",
       "    <tr style=\"text-align: right;\">\n",
       "      <th></th>\n",
       "      <th>Designation</th>\n",
       "      <th>Job_Category</th>\n",
       "    </tr>\n",
       "  </thead>\n",
       "  <tbody>\n",
       "    <tr>\n",
       "      <th>0</th>\n",
       "      <td>Data Scientist</td>\n",
       "      <td>Other</td>\n",
       "    </tr>\n",
       "    <tr>\n",
       "      <th>1</th>\n",
       "      <td>Machine Learning Scientist</td>\n",
       "      <td>Machine Learning</td>\n",
       "    </tr>\n",
       "    <tr>\n",
       "      <th>2</th>\n",
       "      <td>Big Data Engineer</td>\n",
       "      <td>Data Engineering</td>\n",
       "    </tr>\n",
       "    <tr>\n",
       "      <th>3</th>\n",
       "      <td>Product Data Analyst</td>\n",
       "      <td>Other</td>\n",
       "    </tr>\n",
       "    <tr>\n",
       "      <th>4</th>\n",
       "      <td>Machine Learning Engineer</td>\n",
       "      <td>Machine Learning</td>\n",
       "    </tr>\n",
       "  </tbody>\n",
       "</table>\n",
       "</div>"
      ],
      "text/plain": [
       "                  Designation      Job_Category\n",
       "0              Data Scientist             Other\n",
       "1  Machine Learning Scientist  Machine Learning\n",
       "2           Big Data Engineer  Data Engineering\n",
       "3        Product Data Analyst             Other\n",
       "4   Machine Learning Engineer  Machine Learning"
      ]
     },
     "execution_count": 31,
     "metadata": {},
     "output_type": "execute_result"
    }
   ],
   "source": [
    "salaries[[\"Designation\", \"Job_Category\"]].head()"
   ]
  },
  {
   "cell_type": "code",
   "execution_count": 32,
   "id": "2b253ce5-942f-4150-9286-d0d24e7e79a9",
   "metadata": {},
   "outputs": [
    {
     "data": {
      "image/png": "[encoded data removed]",
      "text/plain": [
       "<Figure size 640x480 with 1 Axes>"
      ]
     },
     "metadata": {},
     "output_type": "display_data"
    }
   ],
   "source": [
    "# visializing job category frequency\n",
    "sns.countplot(data=salaries, x=\"Job_Category\", palette=\"tab10\")\n",
    "plt.show()"
   ]
  },
  {
   "cell_type": "markdown",
   "id": "f4b02e8f-fc30-4853-9e0d-b09f3b18910a",
   "metadata": {},
   "source": [
    "#### Exercise - Converting and analyzing categorical data"
   ]
  },
  {
   "cell_type": "markdown",
   "id": "f949e8ea-c078-4ef1-8a59-b7e1eab5a147",
   "metadata": {
    "jp-MarkdownHeadingCollapsed": true
   },
   "source": [
    "##### Finding the number of unique values"
   ]
  },
  {
   "cell_type": "markdown",
   "id": "25a347b4-c2fd-44aa-a1d2-57d4ba7169b2",
   "metadata": {},
   "source": [
    "You would like to practice some of the categorical data manipulation and analysis skills that you've just seen. To help identify which data could be reformatted to extract value, you are going to find out which non-numeric columns in the planes dataset have a large number of unique values."
   ]
  },
  {
   "cell_type": "code",
   "execution_count": 33,
   "id": "45eeeda9-798c-4cf9-9662-b16a927d8faf",
   "metadata": {},
   "outputs": [
    {
     "data": {
      "text/html": [
       "<div>\n",
       "<style scoped>\n",
       "    .dataframe tbody tr th:only-of-type {\n",
       "        vertical-align: middle;\n",
       "    }\n",
       "\n",
       "    .dataframe tbody tr th {\n",
       "        vertical-align: top;\n",
       "    }\n",
       "\n",
       "    .dataframe thead th {\n",
       "        text-align: right;\n",
       "    }\n",
       "</style>\n",
       "<table border=\"1\" class=\"dataframe\">\n",
       "  <thead>\n",
       "    <tr style=\"text-align: right;\">\n",
       "      <th></th>\n",
       "      <th>Airline</th>\n",
       "      <th>Date_of_Journey</th>\n",
       "      <th>Source</th>\n",
       "      <th>Destination</th>\n",
       "      <th>Route</th>\n",
       "      <th>Dep_Time</th>\n",
       "      <th>Arrival_Time</th>\n",
       "      <th>Duration</th>\n",
       "      <th>Total_Stops</th>\n",
       "    </tr>\n",
       "  </thead>\n",
       "  <tbody>\n",
       "    <tr>\n",
       "      <th>0</th>\n",
       "      <td>Jet Airways</td>\n",
       "      <td>9/06/2019</td>\n",
       "      <td>Delhi</td>\n",
       "      <td>Cochin</td>\n",
       "      <td>DEL → LKO → BOM → COK</td>\n",
       "      <td>09:25</td>\n",
       "      <td>04:25 10 Jun</td>\n",
       "      <td>19h</td>\n",
       "      <td>2 stops</td>\n",
       "    </tr>\n",
       "    <tr>\n",
       "      <th>1</th>\n",
       "      <td>IndiGo</td>\n",
       "      <td>12/05/2019</td>\n",
       "      <td>Kolkata</td>\n",
       "      <td>Banglore</td>\n",
       "      <td>CCU → NAG → BLR</td>\n",
       "      <td>18:05</td>\n",
       "      <td>23:30</td>\n",
       "      <td>5h 25m</td>\n",
       "      <td>1 stop</td>\n",
       "    </tr>\n",
       "    <tr>\n",
       "      <th>2</th>\n",
       "      <td>IndiGo</td>\n",
       "      <td>01/03/2019</td>\n",
       "      <td>Banglore</td>\n",
       "      <td>New Delhi</td>\n",
       "      <td>BLR → NAG → DEL</td>\n",
       "      <td>16:50</td>\n",
       "      <td>21:35</td>\n",
       "      <td>4h 45m</td>\n",
       "      <td>1 stop</td>\n",
       "    </tr>\n",
       "    <tr>\n",
       "      <th>3</th>\n",
       "      <td>SpiceJet</td>\n",
       "      <td>24/06/2019</td>\n",
       "      <td>Kolkata</td>\n",
       "      <td>Banglore</td>\n",
       "      <td>CCU → BLR</td>\n",
       "      <td>09:00</td>\n",
       "      <td>11:25</td>\n",
       "      <td>2h 25m</td>\n",
       "      <td>non-stop</td>\n",
       "    </tr>\n",
       "    <tr>\n",
       "      <th>4</th>\n",
       "      <td>Jet Airways</td>\n",
       "      <td>12/03/2019</td>\n",
       "      <td>Banglore</td>\n",
       "      <td>New Delhi</td>\n",
       "      <td>BLR → BOM → DEL</td>\n",
       "      <td>18:55</td>\n",
       "      <td>10:25 13 Mar</td>\n",
       "      <td>15h 30m</td>\n",
       "      <td>1 stop</td>\n",
       "    </tr>\n",
       "    <tr>\n",
       "      <th>...</th>\n",
       "      <td>...</td>\n",
       "      <td>...</td>\n",
       "      <td>...</td>\n",
       "      <td>...</td>\n",
       "      <td>...</td>\n",
       "      <td>...</td>\n",
       "      <td>...</td>\n",
       "      <td>...</td>\n",
       "      <td>...</td>\n",
       "    </tr>\n",
       "    <tr>\n",
       "      <th>10654</th>\n",
       "      <td>SpiceJet</td>\n",
       "      <td>21/05/2019</td>\n",
       "      <td>Banglore</td>\n",
       "      <td>Delhi</td>\n",
       "      <td>BLR → DEL</td>\n",
       "      <td>05:55</td>\n",
       "      <td>08:35</td>\n",
       "      <td>2h 40m</td>\n",
       "      <td>non-stop</td>\n",
       "    </tr>\n",
       "    <tr>\n",
       "      <th>10655</th>\n",
       "      <td>Air Asia</td>\n",
       "      <td>9/04/2019</td>\n",
       "      <td>Kolkata</td>\n",
       "      <td>Banglore</td>\n",
       "      <td>CCU → BLR</td>\n",
       "      <td>19:55</td>\n",
       "      <td>22:25</td>\n",
       "      <td>2h 30m</td>\n",
       "      <td>non-stop</td>\n",
       "    </tr>\n",
       "    <tr>\n",
       "      <th>10656</th>\n",
       "      <td>Air India</td>\n",
       "      <td>27/04/2019</td>\n",
       "      <td>Kolkata</td>\n",
       "      <td>Banglore</td>\n",
       "      <td>CCU → BLR</td>\n",
       "      <td>20:45</td>\n",
       "      <td>23:20</td>\n",
       "      <td>2h 35m</td>\n",
       "      <td>non-stop</td>\n",
       "    </tr>\n",
       "    <tr>\n",
       "      <th>10658</th>\n",
       "      <td>Vistara</td>\n",
       "      <td>01/03/2019</td>\n",
       "      <td>Banglore</td>\n",
       "      <td>New Delhi</td>\n",
       "      <td>BLR → DEL</td>\n",
       "      <td>11:30</td>\n",
       "      <td>14:10</td>\n",
       "      <td>2h 40m</td>\n",
       "      <td>non-stop</td>\n",
       "    </tr>\n",
       "    <tr>\n",
       "      <th>10659</th>\n",
       "      <td>Air India</td>\n",
       "      <td>9/05/2019</td>\n",
       "      <td>Delhi</td>\n",
       "      <td>Cochin</td>\n",
       "      <td>DEL → GOI → BOM → COK</td>\n",
       "      <td>10:55</td>\n",
       "      <td>19:15</td>\n",
       "      <td>8h 20m</td>\n",
       "      <td>2 stops</td>\n",
       "    </tr>\n",
       "  </tbody>\n",
       "</table>\n",
       "<p>8508 rows × 9 columns</p>\n",
       "</div>"
      ],
      "text/plain": [
       "           Airline Date_of_Journey    Source Destination  \\\n",
       "0      Jet Airways       9/06/2019     Delhi      Cochin   \n",
       "1           IndiGo      12/05/2019   Kolkata    Banglore   \n",
       "2           IndiGo      01/03/2019  Banglore   New Delhi   \n",
       "3         SpiceJet      24/06/2019   Kolkata    Banglore   \n",
       "4      Jet Airways      12/03/2019  Banglore   New Delhi   \n",
       "...            ...             ...       ...         ...   \n",
       "10654     SpiceJet      21/05/2019  Banglore       Delhi   \n",
       "10655     Air Asia       9/04/2019   Kolkata    Banglore   \n",
       "10656    Air India      27/04/2019   Kolkata    Banglore   \n",
       "10658      Vistara      01/03/2019  Banglore   New Delhi   \n",
       "10659    Air India       9/05/2019     Delhi      Cochin   \n",
       "\n",
       "                       Route Dep_Time  Arrival_Time Duration Total_Stops  \n",
       "0      DEL → LKO → BOM → COK    09:25  04:25 10 Jun      19h     2 stops  \n",
       "1            CCU → NAG → BLR    18:05         23:30   5h 25m      1 stop  \n",
       "2            BLR → NAG → DEL    16:50         21:35   4h 45m      1 stop  \n",
       "3                  CCU → BLR    09:00         11:25   2h 25m    non-stop  \n",
       "4            BLR → BOM → DEL    18:55  10:25 13 Mar  15h 30m      1 stop  \n",
       "...                      ...      ...           ...      ...         ...  \n",
       "10654              BLR → DEL    05:55         08:35   2h 40m    non-stop  \n",
       "10655              CCU → BLR    19:55         22:25   2h 30m    non-stop  \n",
       "10656              CCU → BLR    20:45         23:20   2h 35m    non-stop  \n",
       "10658              BLR → DEL    11:30         14:10   2h 40m    non-stop  \n",
       "10659  DEL → GOI → BOM → COK    10:55         19:15   8h 20m     2 stops  \n",
       "\n",
       "[8508 rows x 9 columns]"
      ]
     },
     "execution_count": 33,
     "metadata": {},
     "output_type": "execute_result"
    }
   ],
   "source": [
    "# Filter planes for columns that are of \"object\" data type.\n",
    "non_numeric = planes.select_dtypes(\"object\")\n",
    "non_numeric"
   ]
  },
  {
   "cell_type": "code",
   "execution_count": 34,
   "id": "f609cdd2-5ed9-4252-8f14-5e7a580babbc",
   "metadata": {},
   "outputs": [
    {
     "name": "stdout",
     "output_type": "stream",
     "text": [
      "Airline\n",
      "Date_of_Journey\n",
      "Source\n",
      "Destination\n",
      "Route\n",
      "Dep_Time\n",
      "Arrival_Time\n",
      "Duration\n",
      "Total_Stops\n"
     ]
    }
   ],
   "source": [
    "# Loop through the columns in the dataset.\n",
    "for feature in non_numeric.columns:\n",
    "    print(feature)"
   ]
  },
  {
   "cell_type": "code",
   "execution_count": 35,
   "id": "8e672b26-ba04-48eb-a1d3-edb2e0fe1e58",
   "metadata": {},
   "outputs": [
    {
     "name": "stdout",
     "output_type": "stream",
     "text": [
      "Number of unique values in Airline column: 8\n",
      "Number of unique values in Date_of_Journey column: 44\n",
      "Number of unique values in Source column: 5\n",
      "Number of unique values in Destination column: 6\n",
      "Number of unique values in Route column: 122\n",
      "Number of unique values in Dep_Time column: 218\n",
      "Number of unique values in Arrival_Time column: 1220\n",
      "Number of unique values in Duration column: 362\n",
      "Number of unique values in Total_Stops column: 5\n"
     ]
    }
   ],
   "source": [
    "# Add the column iterator to the print statement, then call the function to return the number of unique values in the column.\n",
    "for feature in non_numeric.columns:\n",
    "    print(f\"Number of unique values in {feature} column:\", non_numeric[feature].nunique())"
   ]
  },
  {
   "cell_type": "markdown",
   "id": "908ed058-be55-40b7-95bf-3dbbd02bb575",
   "metadata": {
    "jp-MarkdownHeadingCollapsed": true
   },
   "source": [
    "##### Flight duration categories"
   ]
  },
  {
   "cell_type": "markdown",
   "id": "3ebba053-d557-4412-a8da-7cf6411cd8c5",
   "metadata": {},
   "source": [
    "As you saw, there are 362 unique values in the \"Duration\" column of planes. Calling planes[\"Duration\"].head(), we see the following values:\n",
    "\n",
    "<pre>\n",
    "0        19h\n",
    "1     5h 25m\n",
    "2     4h 45m\n",
    "3     2h 25m\n",
    "4    15h 30m\n",
    "Name: Duration, dtype: object\n",
    "</pre>\n",
    "\n",
    "Looks like this won't be simple to convert to numbers. However, you could categorize flights by duration and examine the frequency of different flight lengths!\n",
    "\n",
    "You'll create a \"Duration_Category\" column in the planes DataFrame. Before you can do this you'll need to create a list of the values you would like to insert into the DataFrame, followed by the existing values that these should be created from."
   ]
  },
  {
   "cell_type": "code",
   "execution_count": 36,
   "id": "b077c221-061f-4948-9189-f2c6008d99c1",
   "metadata": {},
   "outputs": [
    {
     "data": {
      "text/plain": [
       "0        19h\n",
       "1     5h 25m\n",
       "2     4h 45m\n",
       "3     2h 25m\n",
       "4    15h 30m\n",
       "Name: Duration, dtype: object"
      ]
     },
     "execution_count": 36,
     "metadata": {},
     "output_type": "execute_result"
    }
   ],
   "source": [
    "planes[\"Duration\"].head()"
   ]
  },
  {
   "cell_type": "code",
   "execution_count": 37,
   "id": "75fc8aa1-1ce5-44c3-8b1c-8334a699af3b",
   "metadata": {},
   "outputs": [],
   "source": [
    "# Create a list of categories containing \"Short-haul\", \"Medium\", and \"Long-haul\".\n",
    "flight_categories = [\"Short-haul\", \"Medium\", \"Long-haul\"]"
   ]
  },
  {
   "cell_type": "code",
   "execution_count": 38,
   "id": "6a515f88-7cfc-41c0-955b-3b237f23dd90",
   "metadata": {},
   "outputs": [
    {
     "data": {
      "text/plain": [
       "Duration\n",
       "False    5513\n",
       "True     2995\n",
       "Name: count, dtype: int64"
      ]
     },
     "execution_count": 38,
     "metadata": {},
     "output_type": "execute_result"
    }
   ],
   "source": [
    "# Create short_flights, a string to capture values of \"0h\", \"1h\", \"2h\", \"3h\", or \"4h\" taking care to avoid values such as \"10h\".\n",
    "# Create short-haul values\n",
    "short_flights = \"^0h|^1h|^2h|^3h|^4h\"\n",
    "planes[\"Duration\"].str.contains(short_flights).value_counts()"
   ]
  },
  {
   "cell_type": "code",
   "execution_count": 39,
   "id": "d6ee0d51-3b66-4bfe-983e-24d749f004f7",
   "metadata": {},
   "outputs": [
    {
     "data": {
      "text/plain": [
       "Duration\n",
       "False    6790\n",
       "True     1718\n",
       "Name: count, dtype: int64"
      ]
     },
     "execution_count": 39,
     "metadata": {},
     "output_type": "execute_result"
    }
   ],
   "source": [
    "# Create medium_flights to capture any values between five and nine hours.\n",
    "medium_flights = \"^5h|^6h|^7h|^8h|^9h\"\n",
    "planes[\"Duration\"].str.contains(medium_flights).value_counts()"
   ]
  },
  {
   "cell_type": "code",
   "execution_count": 40,
   "id": "a2fee55c-dfcb-4541-aa72-dab7b4877975",
   "metadata": {},
   "outputs": [
    {
     "data": {
      "text/plain": [
       "Duration\n",
       "False    6594\n",
       "True     1914\n",
       "Name: count, dtype: int64"
      ]
     },
     "execution_count": 40,
     "metadata": {},
     "output_type": "execute_result"
    }
   ],
   "source": [
    "# Create long_flights to capture any values from 10 hours to 16 hours inclusive.\n",
    "long_flights = \"10h|11h|12h|13h|14h|15h|16h\"\n",
    "planes[\"Duration\"].str.contains(long_flights).value_counts()"
   ]
  },
  {
   "cell_type": "markdown",
   "id": "0ef98e73-6a0b-46a8-8b70-4a1d40f9aa42",
   "metadata": {
    "jp-MarkdownHeadingCollapsed": true
   },
   "source": [
    "##### Adding duration categories"
   ]
  },
  {
   "cell_type": "markdown",
   "id": "3a226da9-040b-49fd-9a25-c4de3629074a",
   "metadata": {},
   "source": [
    "Now that you've set up the categories and values you want to capture, it's time to build a new column to analyze the frequency of flights by duration!\n",
    "\n",
    "The variables flight_categories, short_flights, medium_flights, and long_flights that you previously created are available to you."
   ]
  },
  {
   "cell_type": "code",
   "execution_count": 41,
   "id": "6d2e9e2a-bb36-49bd-901a-6607892e11ce",
   "metadata": {},
   "outputs": [],
   "source": [
    "# Create conditions, a list containing subsets of planes[\"Duration\"] based on short_flights, medium_flights, and long_flights.\n",
    "conditions = [\n",
    "    (planes[\"Duration\"].str.contains(short_flights)),\n",
    "    (planes[\"Duration\"].str.contains(medium_flights)),\n",
    "    (planes[\"Duration\"].str.contains(long_flights))\n",
    "]\n",
    "\n",
    "planes[\"Duration_Category\"] = np.select(conditions,\n",
    "                                       flight_categories,\n",
    "                                       default=\"Extreme duration\")"
   ]
  },
  {
   "cell_type": "code",
   "execution_count": 42,
   "id": "27d7ad5a-1ad7-4af5-ace8-d4882904eb9d",
   "metadata": {},
   "outputs": [
    {
     "data": {
      "text/plain": [
       "<Axes: xlabel='Duration_Category', ylabel='count'>"
      ]
     },
     "execution_count": 42,
     "metadata": {},
     "output_type": "execute_result"
    },
    {
     "data": {
      "image/png": "[encoded data removed]",
      "text/plain": [
       "<Figure size 640x480 with 1 Axes>"
      ]
     },
     "metadata": {},
     "output_type": "display_data"
    }
   ],
   "source": [
    "# Create a plot showing the count of each category.\n",
    "sns.countplot(data=planes, x=\"Duration_Category\", palette=\"tab10\")"
   ]
  },
  {
   "cell_type": "code",
   "execution_count": 43,
   "id": "da2f0ea8-043f-4495-a802-14f956aa7896",
   "metadata": {},
   "outputs": [
    {
     "data": {
      "text/plain": [
       "0            19h\n",
       "1         5h 25m\n",
       "2         4h 45m\n",
       "3         2h 25m\n",
       "4        15h 30m\n",
       "          ...   \n",
       "10654     2h 40m\n",
       "10655     2h 30m\n",
       "10656     2h 35m\n",
       "10658     2h 40m\n",
       "10659     8h 20m\n",
       "Name: Duration, Length: 8508, dtype: object"
      ]
     },
     "execution_count": 43,
     "metadata": {},
     "output_type": "execute_result"
    }
   ],
   "source": [
    "planes[\"Duration\"]"
   ]
  },
  {
   "cell_type": "markdown",
   "id": "7afa03f7-3294-473f-bf0a-efeb03f8581a",
   "metadata": {},
   "source": [
    "#### Working with numeric data"
   ]
  },
  {
   "cell_type": "code",
   "execution_count": 44,
   "id": "2f956550-4262-4da0-b319-5696e5910036",
   "metadata": {},
   "outputs": [
    {
     "name": "stdout",
     "output_type": "stream",
     "text": [
      "<class 'pandas.core.frame.DataFrame'>\n",
      "RangeIndex: 607 entries, 0 to 606\n",
      "Data columns (total 9 columns):\n",
      " #   Column                Non-Null Count  Dtype  \n",
      "---  ------                --------------  -----  \n",
      " 0   Working_Year          607 non-null    int64  \n",
      " 1   Designation           607 non-null    object \n",
      " 2   Experience            607 non-null    object \n",
      " 3   Employment_Status     607 non-null    object \n",
      " 4   Employee_Location     607 non-null    object \n",
      " 5   Company_Size          607 non-null    object \n",
      " 6   Remote_Working_Ratio  607 non-null    int64  \n",
      " 7   Salary_USD            607 non-null    float64\n",
      " 8   Job_Category          607 non-null    object \n",
      "dtypes: float64(1), int64(2), object(6)\n",
      "memory usage: 42.8+ KB\n"
     ]
    }
   ],
   "source": [
    "# The original salaries dataset\n",
    "salaries.info()"
   ]
  },
  {
   "cell_type": "markdown",
   "id": "dae2ca52-88ca-4d37-870c-9e8ea065c789",
   "metadata": {},
   "source": [
    "#### Exercise - Working with numeric data"
   ]
  },
  {
   "cell_type": "markdown",
   "id": "be9cb991-8f93-458b-aac0-c90809ea3c16",
   "metadata": {
    "jp-MarkdownHeadingCollapsed": true
   },
   "source": [
    "##### Flight duration"
   ]
  },
  {
   "cell_type": "markdown",
   "id": "0d6487fe-5421-43c4-a29d-32199c781924",
   "metadata": {},
   "source": [
    "You would like to analyze the duration of flights, but unfortunately, the \"Duration\" column in the planes DataFrame currently contains string values."
   ]
  },
  {
   "cell_type": "code",
   "execution_count": 45,
   "id": "2936443b-559a-463a-978d-e130403b5932",
   "metadata": {},
   "outputs": [
    {
     "data": {
      "text/plain": [
       "0        19h\n",
       "1     5h 25m\n",
       "2     4h 45m\n",
       "3     2h 25m\n",
       "4    15h 30m\n",
       "Name: Duration, dtype: object"
      ]
     },
     "execution_count": 45,
     "metadata": {},
     "output_type": "execute_result"
    }
   ],
   "source": [
    "# Print the first five values of the \"Duration\" column.\n",
    "planes[\"Duration\"].head()"
   ]
  },
  {
   "cell_type": "code",
   "execution_count": 46,
   "id": "1ce89fed-e25d-4893-8fef-acf82aa9954d",
   "metadata": {},
   "outputs": [],
   "source": [
    "# Function to convert duration to float\n",
    "def convert_duration(duration):\n",
    "    hours = 0\n",
    "    minutes = 0\n",
    "\n",
    "    # Extract hours and minutes using regular expressions\n",
    "    if \"h\" in duration:\n",
    "        hours = int(duration.split(\"h\")[0]) # get the hours before 'h'\n",
    "    if \"m\" in duration:\n",
    "        minutes = int(duration.split(\"h \")[-1].replace(\"m\", \"\").strip()) # Get the minutes after 'h'\n",
    "\n",
    "    # convert total time to hours\n",
    "    return hours + minutes / 60"
   ]
  },
  {
   "cell_type": "code",
   "execution_count": 47,
   "id": "0dec3000-141e-45b8-aeb4-7dca02d57f54",
   "metadata": {},
   "outputs": [],
   "source": [
    "planes[\"Duration_in_hours\"] = planes[\"Duration\"].apply(convert_duration)"
   ]
  },
  {
   "cell_type": "code",
   "execution_count": 48,
   "id": "585d9d03-14c5-41eb-bc3e-36a9c943aa6e",
   "metadata": {},
   "outputs": [
    {
     "data": {
      "text/plain": [
       "0        19.000000\n",
       "1         5.416667\n",
       "2         4.750000\n",
       "3         2.416667\n",
       "4        15.500000\n",
       "           ...    \n",
       "10654     2.666667\n",
       "10655     2.500000\n",
       "10656     2.583333\n",
       "10658     2.666667\n",
       "10659     8.333333\n",
       "Name: Duration_in_hours, Length: 8508, dtype: float64"
      ]
     },
     "execution_count": 48,
     "metadata": {},
     "output_type": "execute_result"
    }
   ],
   "source": [
    "planes[\"Duration_in_hours\"]"
   ]
  },
  {
   "cell_type": "markdown",
   "id": "adfe12af-e09d-4566-ba1f-95424e83d283",
   "metadata": {
    "jp-MarkdownHeadingCollapsed": true
   },
   "source": [
    "##### Adding descriptive statistics"
   ]
  },
  {
   "cell_type": "markdown",
   "id": "8942c72c-e177-4403-b629-9d63aecde101",
   "metadata": {},
   "source": [
    "Now \"Duration\" and \"Price\" both contain numeric values in the planes DataFrame, you would like to calculate summary statistics for them that are conditional on values in other columns."
   ]
  },
  {
   "cell_type": "code",
   "execution_count": 49,
   "id": "0976d14d-1e23-4b22-8f6b-cb256fbe6612",
   "metadata": {},
   "outputs": [
    {
     "name": "stdout",
     "output_type": "stream",
     "text": [
      "Airline            airline_price_st_dev\n",
      "Jet Airways        4159.846432             3082\n",
      "IndiGo             2245.529140             1632\n",
      "Air India          3692.609285             1399\n",
      "Multiple carriers  3558.323763              959\n",
      "SpiceJet           1798.900648              653\n",
      "Vistara            2888.915498              376\n",
      "Air Asia           1979.826234              260\n",
      "GoAir              2764.926625              147\n",
      "Name: count, dtype: int64\n"
     ]
    }
   ],
   "source": [
    "# # Price standard deviation by Airline\n",
    "# Price standard deviation by Airline\n",
    "planes[\"airline_price_st_dev\"] = planes.groupby(\"Airline\")[\"Price\"].transform(lambda x: x.std())\n",
    "\n",
    "print(planes[[\"Airline\", \"airline_price_st_dev\"]].value_counts())"
   ]
  },
  {
   "cell_type": "code",
   "execution_count": 51,
   "id": "372dd8b4-a64c-4aa4-91b4-4b31578e14da",
   "metadata": {},
   "outputs": [],
   "source": [
    "# Calculate the median for \"Duration\" by \"Airline\", storing it as a column called \"airline_median_duration\".\n",
    "planes[\"airline_median_duration\"] = planes.groupby(\"Airline\")[\"Duration_in_hours\"].transform(lambda x: x.median())"
   ]
  },
  {
   "cell_type": "code",
   "execution_count": 52,
   "id": "8759b3c3-9ffd-4cae-b08c-a4a1b55c889b",
   "metadata": {},
   "outputs": [
    {
     "data": {
      "text/plain": [
       "0        13.333333\n",
       "1         2.916667\n",
       "2         2.916667\n",
       "3         2.500000\n",
       "4        13.333333\n",
       "           ...    \n",
       "10654     2.500000\n",
       "10655     2.833333\n",
       "10656    15.500000\n",
       "10658     3.166667\n",
       "10659    15.500000\n",
       "Name: airline_median_duration, Length: 8508, dtype: float64"
      ]
     },
     "execution_count": 52,
     "metadata": {},
     "output_type": "execute_result"
    }
   ],
   "source": [
    "planes[\"airline_median_duration\"]"
   ]
  },
  {
   "cell_type": "code",
   "execution_count": 53,
   "id": "4e670cc1-ed93-40dd-ad7e-208790e4f0e5",
   "metadata": {},
   "outputs": [
    {
     "name": "stdout",
     "output_type": "stream",
     "text": [
      "Destination  price_destination_mean\n",
      "Cochin       10473.585927              3631\n",
      "Banglore     9093.622872               2291\n",
      "Delhi        5248.541082                998\n",
      "New Delhi    11579.306944               720\n",
      "Hyderabad    5190.274021                562\n",
      "Kolkata      4907.156863                306\n",
      "Name: count, dtype: int64\n"
     ]
    }
   ],
   "source": [
    "# Mean Price by Destination\n",
    "planes[\"price_destination_mean\"] = planes.groupby(\"Destination\")[\"Price\"].transform(lambda x: x.mean())\n",
    "\n",
    "print(planes[[\"Destination\",\"price_destination_mean\"]].value_counts())"
   ]
  },
  {
   "cell_type": "code",
   "execution_count": 54,
   "id": "55ac1c69-8361-41ad-ae49-4bc0cdc16b65",
   "metadata": {},
   "outputs": [
    {
     "data": {
      "text/plain": [
       "array(['Cochin', 'Banglore', 'New Delhi', 'Kolkata', 'Delhi', 'Hyderabad'],\n",
       "      dtype=object)"
      ]
     },
     "execution_count": 54,
     "metadata": {},
     "output_type": "execute_result"
    }
   ],
   "source": [
    "# for my test\n",
    "planes[\"Destination\"].unique()"
   ]
  },
  {
   "cell_type": "code",
   "execution_count": 65,
   "id": "fe003d84-b2be-421d-b06d-fbacf6b82d08",
   "metadata": {},
   "outputs": [
    {
     "data": {
      "text/plain": [
       "Destination\n",
       "Banglore      9093.622872\n",
       "Cochin       10473.585927\n",
       "Delhi         5248.541082\n",
       "Hyderabad     5190.274021\n",
       "Kolkata       4907.156863\n",
       "New Delhi    11579.306944\n",
       "Name: Price, dtype: float64"
      ]
     },
     "execution_count": 65,
     "metadata": {},
     "output_type": "execute_result"
    }
   ],
   "source": [
    "planes[[\"Destination\", \"Price\"]].groupby(\"Destination\")[\"Price\"].mean()"
   ]
  },
  {
   "cell_type": "code",
   "execution_count": 68,
   "id": "bf71fc07-613b-44f5-b09c-3fd6d1b4687e",
   "metadata": {},
   "outputs": [
    {
     "data": {
      "text/plain": [
       "0        10473.585927\n",
       "1         9093.622872\n",
       "2        11579.306944\n",
       "3         9093.622872\n",
       "4        11579.306944\n",
       "             ...     \n",
       "10654     5248.541082\n",
       "10655     9093.622872\n",
       "10656     9093.622872\n",
       "10658    11579.306944\n",
       "10659    10473.585927\n",
       "Name: Price, Length: 8508, dtype: float64"
      ]
     },
     "execution_count": 68,
     "metadata": {},
     "output_type": "execute_result"
    }
   ],
   "source": [
    "planes[[\"Destination\", \"Price\"]].groupby(\"Destination\")[\"Price\"].transform(lambda x: x.mean())"
   ]
  },
  {
   "cell_type": "code",
   "execution_count": 69,
   "id": "ad9c705d-b5a6-4a0a-bd53-5df38a0b206c",
   "metadata": {},
   "outputs": [
    {
     "data": {
      "text/plain": [
       "Price\n",
       "10473.585927    3631\n",
       "9093.622872     2291\n",
       "5248.541082      998\n",
       "11579.306944     720\n",
       "5190.274021      562\n",
       "4907.156863      306\n",
       "Name: count, dtype: int64"
      ]
     },
     "execution_count": 69,
     "metadata": {},
     "output_type": "execute_result"
    }
   ],
   "source": [
    "planes[[\"Destination\", \"Price\"]].groupby(\"Destination\")[\"Price\"].transform(lambda x: x.mean()).value_counts()"
   ]
  },
  {
   "cell_type": "code",
   "execution_count": 70,
   "id": "5e89c73b-c9ae-44f0-a1ae-8dde33f9ecb4",
   "metadata": {},
   "outputs": [],
   "source": [
    "data = {\n",
    "    \"Destination\": [\"New York\", \"Los Angeles\", \"New York\", \"Chicago\", \"Los Angeles\"],\n",
    "    \"Price\": [300, 250, 350, 200, 300]\n",
    "}\n",
    "\n",
    "planes = pd.DataFrame(data)"
   ]
  },
  {
   "cell_type": "code",
   "execution_count": 71,
   "id": "08e16400-90d3-4403-a72a-858574f24ef9",
   "metadata": {},
   "outputs": [
    {
     "name": "stdout",
     "output_type": "stream",
     "text": [
      "Destination\n",
      "Chicago        200.0\n",
      "Los Angeles    275.0\n",
      "New York       325.0\n",
      "Name: Price, dtype: float64\n"
     ]
    }
   ],
   "source": [
    "mean_prices = planes[[\"Destination\", \"Price\"]].groupby(\"Destination\")[\"Price\"].mean()\n",
    "print(mean_prices)"
   ]
  },
  {
   "cell_type": "code",
   "execution_count": 85,
   "id": "d1e25a46-cc81-4e27-8066-d99ae81756b6",
   "metadata": {},
   "outputs": [
    {
     "data": {
      "text/html": [
       "<div>\n",
       "<style scoped>\n",
       "    .dataframe tbody tr th:only-of-type {\n",
       "        vertical-align: middle;\n",
       "    }\n",
       "\n",
       "    .dataframe tbody tr th {\n",
       "        vertical-align: top;\n",
       "    }\n",
       "\n",
       "    .dataframe thead th {\n",
       "        text-align: right;\n",
       "    }\n",
       "</style>\n",
       "<table border=\"1\" class=\"dataframe\">\n",
       "  <thead>\n",
       "    <tr style=\"text-align: right;\">\n",
       "      <th></th>\n",
       "      <th>Destination</th>\n",
       "      <th>mean_prices_transformed</th>\n",
       "    </tr>\n",
       "  </thead>\n",
       "  <tbody>\n",
       "    <tr>\n",
       "      <th>0</th>\n",
       "      <td>New York</td>\n",
       "      <td>325.0</td>\n",
       "    </tr>\n",
       "    <tr>\n",
       "      <th>1</th>\n",
       "      <td>Los Angeles</td>\n",
       "      <td>275.0</td>\n",
       "    </tr>\n",
       "    <tr>\n",
       "      <th>2</th>\n",
       "      <td>New York</td>\n",
       "      <td>325.0</td>\n",
       "    </tr>\n",
       "    <tr>\n",
       "      <th>3</th>\n",
       "      <td>Chicago</td>\n",
       "      <td>200.0</td>\n",
       "    </tr>\n",
       "    <tr>\n",
       "      <th>4</th>\n",
       "      <td>Los Angeles</td>\n",
       "      <td>275.0</td>\n",
       "    </tr>\n",
       "  </tbody>\n",
       "</table>\n",
       "</div>"
      ],
      "text/plain": [
       "   Destination  mean_prices_transformed\n",
       "0     New York                    325.0\n",
       "1  Los Angeles                    275.0\n",
       "2     New York                    325.0\n",
       "3      Chicago                    200.0\n",
       "4  Los Angeles                    275.0"
      ]
     },
     "execution_count": 85,
     "metadata": {},
     "output_type": "execute_result"
    }
   ],
   "source": [
    "planes[\"mean_prices_transformed\"] = planes[[\"Destination\", \"Price\"]].groupby(\"Destination\")[\"Price\"].transform(lambda x: x.mean())\n",
    "planes[[\"Destination\", \"mean_prices_transformed\"]]"
   ]
  },
  {
   "cell_type": "markdown",
   "id": "4c0fee47-7bd9-44ff-beff-a9e79fe3ea43",
   "metadata": {
    "jp-MarkdownHeadingCollapsed": true
   },
   "source": [
    "#### Handling outliers"
   ]
  },
  {
   "cell_type": "code",
   "execution_count": 90,
   "id": "aa8078d8-76ba-46ab-9195-e05a0c7abc15",
   "metadata": {},
   "outputs": [
    {
     "data": {
      "text/plain": [
       "count       607.000000\n",
       "mean     107225.836903\n",
       "std       67752.393254\n",
       "min        2730.000000\n",
       "25%       59893.000000\n",
       "50%       96982.000000\n",
       "75%      143225.000000\n",
       "max      572900.000000\n",
       "Name: Salary_USD, dtype: float64"
      ]
     },
     "execution_count": 90,
     "metadata": {},
     "output_type": "execute_result"
    }
   ],
   "source": [
    "salaries[\"Salary_USD\"].describe()"
   ]
  },
  {
   "cell_type": "markdown",
   "id": "79302e27-3678-44de-883a-7cfd37d9fa9a",
   "metadata": {},
   "source": [
    "- using the interquartile range(IQR)\n",
    "- IQR = 75th - 25th percentile(q3 - q1)"
   ]
  },
  {
   "cell_type": "code",
   "execution_count": 95,
   "id": "e2ba9261-1d4e-405c-877c-b297b24bf4a9",
   "metadata": {},
   "outputs": [
    {
     "data": {
      "text/plain": [
       "<Axes: ylabel='Salary_USD'>"
      ]
     },
     "execution_count": 95,
     "metadata": {},
     "output_type": "execute_result"
    },
    {
     "data": {
      "image/png": "[encoded data removed]",
      "text/plain": [
       "<Figure size 640x480 with 1 Axes>"
      ]
     },
     "metadata": {},
     "output_type": "display_data"
    }
   ],
   "source": [
    "# IQR in box plots\n",
    "sns.boxplot(data=salaries, y=\"Salary_USD\")"
   ]
  },
  {
   "cell_type": "markdown",
   "id": "044d50ad-8aff-4f2b-a0b6-73c60367f76b",
   "metadata": {},
   "source": [
    "- Upper Outliers > 75th percentile + (1.5*IQR)\n",
    "- lower Outliers < 25th percentile - (1.5*IQR)"
   ]
  },
  {
   "cell_type": "code",
   "execution_count": 98,
   "id": "216b1a6a-8716-4cb0-9a2d-34397f716f4d",
   "metadata": {},
   "outputs": [
    {
     "data": {
      "text/plain": [
       "143225.0"
      ]
     },
     "execution_count": 98,
     "metadata": {},
     "output_type": "execute_result"
    }
   ],
   "source": [
    "# identifying thresholds\n",
    "# 75th Percentile\n",
    "seventy_fifth = salaries[\"Salary_USD\"].quantile(0.75)\n",
    "seventy_fifth"
   ]
  },
  {
   "cell_type": "code",
   "execution_count": 99,
   "id": "10c77fa0-b022-4f01-a1ca-5408cf2b77fe",
   "metadata": {},
   "outputs": [
    {
     "data": {
      "text/plain": [
       "59893.0"
      ]
     },
     "execution_count": 99,
     "metadata": {},
     "output_type": "execute_result"
    }
   ],
   "source": [
    "# 25th Percentile\n",
    "twenty_fifth = salaries[\"Salary_USD\"].quantile(0.25)\n",
    "twenty_fifth"
   ]
  },
  {
   "cell_type": "code",
   "execution_count": 100,
   "id": "54df8758-4935-4581-b6e1-4ce40f0d8bb2",
   "metadata": {},
   "outputs": [
    {
     "data": {
      "text/plain": [
       "83332.0"
      ]
     },
     "execution_count": 100,
     "metadata": {},
     "output_type": "execute_result"
    }
   ],
   "source": [
    "# Interquartile range\n",
    "salaries_iqr = seventy_fifth - twenty_fifth\n",
    "salaries_iqr"
   ]
  },
  {
   "cell_type": "code",
   "execution_count": 101,
   "id": "d6c63139-fb56-4bc8-a6e1-1866ddc344df",
   "metadata": {},
   "outputs": [
    {
     "name": "stdout",
     "output_type": "stream",
     "text": [
      "Upper Limit = 268223.0\n",
      "Lower Limit = -65105.0\n"
     ]
    }
   ],
   "source": [
    "# identifing outliers\n",
    "upper = seventy_fifth + (1.5 * salaries_iqr)\n",
    "lower = twenty_fifth - (1.5 * salaries_iqr)\n",
    "\n",
    "print(f\"Upper Limit = {upper}\")\n",
    "print(f\"Lower Limit = {lower}\")"
   ]
  },
  {
   "cell_type": "code",
   "execution_count": 119,
   "id": "79d7c15c-f717-43f9-85a9-64a612421dab",
   "metadata": {},
   "outputs": [
    {
     "data": {
      "text/html": [
       "<div>\n",
       "<style scoped>\n",
       "    .dataframe tbody tr th:only-of-type {\n",
       "        vertical-align: middle;\n",
       "    }\n",
       "\n",
       "    .dataframe tbody tr th {\n",
       "        vertical-align: top;\n",
       "    }\n",
       "\n",
       "    .dataframe thead th {\n",
       "        text-align: right;\n",
       "    }\n",
       "</style>\n",
       "<table border=\"1\" class=\"dataframe\">\n",
       "  <thead>\n",
       "    <tr style=\"text-align: right;\">\n",
       "      <th></th>\n",
       "      <th>Experience</th>\n",
       "      <th>Employee_Location</th>\n",
       "      <th>Salary_USD</th>\n",
       "    </tr>\n",
       "  </thead>\n",
       "  <tbody>\n",
       "    <tr>\n",
       "      <th>25</th>\n",
       "      <td>Executive</td>\n",
       "      <td>US</td>\n",
       "      <td>310321.0</td>\n",
       "    </tr>\n",
       "    <tr>\n",
       "      <th>33</th>\n",
       "      <td>Mid</td>\n",
       "      <td>US</td>\n",
       "      <td>429675.0</td>\n",
       "    </tr>\n",
       "    <tr>\n",
       "      <th>63</th>\n",
       "      <td>Senior</td>\n",
       "      <td>US</td>\n",
       "      <td>393392.0</td>\n",
       "    </tr>\n",
       "    <tr>\n",
       "      <th>97</th>\n",
       "      <td>Mid</td>\n",
       "      <td>US</td>\n",
       "      <td>429675.0</td>\n",
       "    </tr>\n",
       "    <tr>\n",
       "      <th>157</th>\n",
       "      <td>Mid</td>\n",
       "      <td>US</td>\n",
       "      <td>403895.0</td>\n",
       "    </tr>\n",
       "    <tr>\n",
       "      <th>225</th>\n",
       "      <td>Executive</td>\n",
       "      <td>US</td>\n",
       "      <td>397211.0</td>\n",
       "    </tr>\n",
       "    <tr>\n",
       "      <th>252</th>\n",
       "      <td>Executive</td>\n",
       "      <td>US</td>\n",
       "      <td>572900.0</td>\n",
       "    </tr>\n",
       "    <tr>\n",
       "      <th>482</th>\n",
       "      <td>Executive</td>\n",
       "      <td>US</td>\n",
       "      <td>309366.0</td>\n",
       "    </tr>\n",
       "    <tr>\n",
       "      <th>519</th>\n",
       "      <td>Senior</td>\n",
       "      <td>US</td>\n",
       "      <td>362837.0</td>\n",
       "    </tr>\n",
       "    <tr>\n",
       "      <th>523</th>\n",
       "      <td>Senior</td>\n",
       "      <td>US</td>\n",
       "      <td>386708.0</td>\n",
       "    </tr>\n",
       "  </tbody>\n",
       "</table>\n",
       "</div>"
      ],
      "text/plain": [
       "    Experience Employee_Location  Salary_USD\n",
       "25   Executive                US    310321.0\n",
       "33         Mid                US    429675.0\n",
       "63      Senior                US    393392.0\n",
       "97         Mid                US    429675.0\n",
       "157        Mid                US    403895.0\n",
       "225  Executive                US    397211.0\n",
       "252  Executive                US    572900.0\n",
       "482  Executive                US    309366.0\n",
       "519     Senior                US    362837.0\n",
       "523     Senior                US    386708.0"
      ]
     },
     "execution_count": 119,
     "metadata": {},
     "output_type": "execute_result"
    }
   ],
   "source": [
    "# Subsetting our data\n",
    "salaries[(salaries[\"Salary_USD\"] < lower) | (salaries[\"Salary_USD\"] > upper)] \\\n",
    "    [[\"Experience\", \"Employee_Location\", \"Salary_USD\"]]"
   ]
  },
  {
   "cell_type": "code",
   "execution_count": 120,
   "id": "d8acfb90-af6a-4bbf-bb0c-bc9fe540a1f2",
   "metadata": {},
   "outputs": [
    {
     "data": {
      "text/html": [
       "<div>\n",
       "<style scoped>\n",
       "    .dataframe tbody tr th:only-of-type {\n",
       "        vertical-align: middle;\n",
       "    }\n",
       "\n",
       "    .dataframe tbody tr th {\n",
       "        vertical-align: top;\n",
       "    }\n",
       "\n",
       "    .dataframe thead th {\n",
       "        text-align: right;\n",
       "    }\n",
       "</style>\n",
       "<table border=\"1\" class=\"dataframe\">\n",
       "  <thead>\n",
       "    <tr style=\"text-align: right;\">\n",
       "      <th></th>\n",
       "      <th>Working_Year</th>\n",
       "      <th>Designation</th>\n",
       "      <th>Experience</th>\n",
       "      <th>Employment_Status</th>\n",
       "      <th>Employee_Location</th>\n",
       "      <th>Company_Size</th>\n",
       "      <th>Remote_Working_Ratio</th>\n",
       "      <th>Salary_USD</th>\n",
       "      <th>Job_Category</th>\n",
       "    </tr>\n",
       "  </thead>\n",
       "  <tbody>\n",
       "    <tr>\n",
       "      <th>0</th>\n",
       "      <td>2020</td>\n",
       "      <td>Data Scientist</td>\n",
       "      <td>Mid</td>\n",
       "      <td>FT</td>\n",
       "      <td>DE</td>\n",
       "      <td>L</td>\n",
       "      <td>0</td>\n",
       "      <td>76227.0</td>\n",
       "      <td>Other</td>\n",
       "    </tr>\n",
       "    <tr>\n",
       "      <th>1</th>\n",
       "      <td>2020</td>\n",
       "      <td>Machine Learning Scientist</td>\n",
       "      <td>Senior</td>\n",
       "      <td>FT</td>\n",
       "      <td>JP</td>\n",
       "      <td>S</td>\n",
       "      <td>0</td>\n",
       "      <td>248257.0</td>\n",
       "      <td>Machine Learning</td>\n",
       "    </tr>\n",
       "    <tr>\n",
       "      <th>2</th>\n",
       "      <td>2020</td>\n",
       "      <td>Big Data Engineer</td>\n",
       "      <td>Senior</td>\n",
       "      <td>FT</td>\n",
       "      <td>GB</td>\n",
       "      <td>M</td>\n",
       "      <td>50</td>\n",
       "      <td>104100.0</td>\n",
       "      <td>Data Engineering</td>\n",
       "    </tr>\n",
       "    <tr>\n",
       "      <th>3</th>\n",
       "      <td>2020</td>\n",
       "      <td>Product Data Analyst</td>\n",
       "      <td>Mid</td>\n",
       "      <td>FT</td>\n",
       "      <td>HN</td>\n",
       "      <td>S</td>\n",
       "      <td>0</td>\n",
       "      <td>19097.0</td>\n",
       "      <td>Other</td>\n",
       "    </tr>\n",
       "    <tr>\n",
       "      <th>4</th>\n",
       "      <td>2020</td>\n",
       "      <td>Machine Learning Engineer</td>\n",
       "      <td>Senior</td>\n",
       "      <td>FT</td>\n",
       "      <td>US</td>\n",
       "      <td>L</td>\n",
       "      <td>50</td>\n",
       "      <td>143225.0</td>\n",
       "      <td>Machine Learning</td>\n",
       "    </tr>\n",
       "    <tr>\n",
       "      <th>...</th>\n",
       "      <td>...</td>\n",
       "      <td>...</td>\n",
       "      <td>...</td>\n",
       "      <td>...</td>\n",
       "      <td>...</td>\n",
       "      <td>...</td>\n",
       "      <td>...</td>\n",
       "      <td>...</td>\n",
       "      <td>...</td>\n",
       "    </tr>\n",
       "    <tr>\n",
       "      <th>602</th>\n",
       "      <td>2022</td>\n",
       "      <td>Data Engineer</td>\n",
       "      <td>Senior</td>\n",
       "      <td>FT</td>\n",
       "      <td>US</td>\n",
       "      <td>M</td>\n",
       "      <td>100</td>\n",
       "      <td>147044.0</td>\n",
       "      <td>Data Engineering</td>\n",
       "    </tr>\n",
       "    <tr>\n",
       "      <th>603</th>\n",
       "      <td>2022</td>\n",
       "      <td>Data Engineer</td>\n",
       "      <td>Senior</td>\n",
       "      <td>FT</td>\n",
       "      <td>US</td>\n",
       "      <td>M</td>\n",
       "      <td>100</td>\n",
       "      <td>120309.0</td>\n",
       "      <td>Data Engineering</td>\n",
       "    </tr>\n",
       "    <tr>\n",
       "      <th>604</th>\n",
       "      <td>2022</td>\n",
       "      <td>Data Analyst</td>\n",
       "      <td>Senior</td>\n",
       "      <td>FT</td>\n",
       "      <td>US</td>\n",
       "      <td>M</td>\n",
       "      <td>0</td>\n",
       "      <td>123174.0</td>\n",
       "      <td>Other</td>\n",
       "    </tr>\n",
       "    <tr>\n",
       "      <th>605</th>\n",
       "      <td>2022</td>\n",
       "      <td>Data Analyst</td>\n",
       "      <td>Senior</td>\n",
       "      <td>FT</td>\n",
       "      <td>US</td>\n",
       "      <td>M</td>\n",
       "      <td>100</td>\n",
       "      <td>143225.0</td>\n",
       "      <td>Other</td>\n",
       "    </tr>\n",
       "    <tr>\n",
       "      <th>606</th>\n",
       "      <td>2022</td>\n",
       "      <td>AI Scientist</td>\n",
       "      <td>Mid</td>\n",
       "      <td>FT</td>\n",
       "      <td>IN</td>\n",
       "      <td>L</td>\n",
       "      <td>100</td>\n",
       "      <td>190967.0</td>\n",
       "      <td>Machine Learning</td>\n",
       "    </tr>\n",
       "  </tbody>\n",
       "</table>\n",
       "<p>597 rows × 9 columns</p>\n",
       "</div>"
      ],
      "text/plain": [
       "     Working_Year                 Designation Experience Employment_Status  \\\n",
       "0            2020              Data Scientist        Mid                FT   \n",
       "1            2020  Machine Learning Scientist     Senior                FT   \n",
       "2            2020           Big Data Engineer     Senior                FT   \n",
       "3            2020        Product Data Analyst        Mid                FT   \n",
       "4            2020   Machine Learning Engineer     Senior                FT   \n",
       "..            ...                         ...        ...               ...   \n",
       "602          2022               Data Engineer     Senior                FT   \n",
       "603          2022               Data Engineer     Senior                FT   \n",
       "604          2022                Data Analyst     Senior                FT   \n",
       "605          2022                Data Analyst     Senior                FT   \n",
       "606          2022                AI Scientist        Mid                FT   \n",
       "\n",
       "    Employee_Location Company_Size  Remote_Working_Ratio  Salary_USD  \\\n",
       "0                  DE            L                     0     76227.0   \n",
       "1                  JP            S                     0    248257.0   \n",
       "2                  GB            M                    50    104100.0   \n",
       "3                  HN            S                     0     19097.0   \n",
       "4                  US            L                    50    143225.0   \n",
       "..                ...          ...                   ...         ...   \n",
       "602                US            M                   100    147044.0   \n",
       "603                US            M                   100    120309.0   \n",
       "604                US            M                     0    123174.0   \n",
       "605                US            M                   100    143225.0   \n",
       "606                IN            L                   100    190967.0   \n",
       "\n",
       "         Job_Category  \n",
       "0               Other  \n",
       "1    Machine Learning  \n",
       "2    Data Engineering  \n",
       "3               Other  \n",
       "4    Machine Learning  \n",
       "..                ...  \n",
       "602  Data Engineering  \n",
       "603  Data Engineering  \n",
       "604             Other  \n",
       "605             Other  \n",
       "606  Machine Learning  \n",
       "\n",
       "[597 rows x 9 columns]"
      ]
     },
     "execution_count": 120,
     "metadata": {},
     "output_type": "execute_result"
    }
   ],
   "source": [
    "# lets deop Outliers\n",
    "no_outliers = salaries[(salaries[\"Salary_USD\"] > lower) & (salaries[\"Salary_USD\"] < upper)]\n",
    "no_outliers"
   ]
  },
  {
   "cell_type": "code",
   "execution_count": 121,
   "id": "c7279e45-6284-4b21-b420-97f936c7c44d",
   "metadata": {},
   "outputs": [
    {
     "data": {
      "text/html": [
       "<div>\n",
       "<style scoped>\n",
       "    .dataframe tbody tr th:only-of-type {\n",
       "        vertical-align: middle;\n",
       "    }\n",
       "\n",
       "    .dataframe tbody tr th {\n",
       "        vertical-align: top;\n",
       "    }\n",
       "\n",
       "    .dataframe thead th {\n",
       "        text-align: right;\n",
       "    }\n",
       "</style>\n",
       "<table border=\"1\" class=\"dataframe\">\n",
       "  <thead>\n",
       "    <tr style=\"text-align: right;\">\n",
       "      <th></th>\n",
       "      <th>Working_Year</th>\n",
       "      <th>Remote_Working_Ratio</th>\n",
       "      <th>Salary_USD</th>\n",
       "    </tr>\n",
       "  </thead>\n",
       "  <tbody>\n",
       "    <tr>\n",
       "      <th>count</th>\n",
       "      <td>597.000000</td>\n",
       "      <td>597.000000</td>\n",
       "      <td>597.000000</td>\n",
       "    </tr>\n",
       "    <tr>\n",
       "      <th>mean</th>\n",
       "      <td>2021.412060</td>\n",
       "      <td>70.686767</td>\n",
       "      <td>102328.480737</td>\n",
       "    </tr>\n",
       "    <tr>\n",
       "      <th>std</th>\n",
       "      <td>0.688634</td>\n",
       "      <td>40.797800</td>\n",
       "      <td>55910.790653</td>\n",
       "    </tr>\n",
       "    <tr>\n",
       "      <th>min</th>\n",
       "      <td>2020.000000</td>\n",
       "      <td>0.000000</td>\n",
       "      <td>2730.000000</td>\n",
       "    </tr>\n",
       "    <tr>\n",
       "      <th>25%</th>\n",
       "      <td>2021.000000</td>\n",
       "      <td>50.000000</td>\n",
       "      <td>59819.000000</td>\n",
       "    </tr>\n",
       "    <tr>\n",
       "      <th>50%</th>\n",
       "      <td>2022.000000</td>\n",
       "      <td>100.000000</td>\n",
       "      <td>95483.000000</td>\n",
       "    </tr>\n",
       "    <tr>\n",
       "      <th>75%</th>\n",
       "      <td>2022.000000</td>\n",
       "      <td>100.000000</td>\n",
       "      <td>141565.000000</td>\n",
       "    </tr>\n",
       "    <tr>\n",
       "      <th>max</th>\n",
       "      <td>2022.000000</td>\n",
       "      <td>100.000000</td>\n",
       "      <td>263534.000000</td>\n",
       "    </tr>\n",
       "  </tbody>\n",
       "</table>\n",
       "</div>"
      ],
      "text/plain": [
       "       Working_Year  Remote_Working_Ratio     Salary_USD\n",
       "count    597.000000            597.000000     597.000000\n",
       "mean    2021.412060             70.686767  102328.480737\n",
       "std        0.688634             40.797800   55910.790653\n",
       "min     2020.000000              0.000000    2730.000000\n",
       "25%     2021.000000             50.000000   59819.000000\n",
       "50%     2022.000000            100.000000   95483.000000\n",
       "75%     2022.000000            100.000000  141565.000000\n",
       "max     2022.000000            100.000000  263534.000000"
      ]
     },
     "execution_count": 121,
     "metadata": {},
     "output_type": "execute_result"
    }
   ],
   "source": [
    "no_outliers.describe()"
   ]
  },
  {
   "cell_type": "code",
   "execution_count": 126,
   "id": "44837452-4937-4388-9e1c-1fe9732c0f8d",
   "metadata": {},
   "outputs": [
    {
     "data": {
      "text/plain": [
       "<Axes: xlabel='Salary_USD', ylabel='Count'>"
      ]
     },
     "execution_count": 126,
     "metadata": {},
     "output_type": "execute_result"
    },
    {
     "data": {
      "image/png": "[encoded data removed]",
      "text/plain": [
       "<Figure size 640x480 with 1 Axes>"
      ]
     },
     "metadata": {},
     "output_type": "display_data"
    }
   ],
   "source": [
    "sns.histplot(data=salaries, x=\"Salary_USD\", bins=25)"
   ]
  },
  {
   "cell_type": "code",
   "execution_count": 127,
   "id": "0feb5b57-6bb8-4a2b-9e69-754edb2981d6",
   "metadata": {},
   "outputs": [
    {
     "data": {
      "text/plain": [
       "<Axes: xlabel='Salary_USD', ylabel='Count'>"
      ]
     },
     "execution_count": 127,
     "metadata": {},
     "output_type": "execute_result"
    },
    {
     "data": {
      "image/png": "[encoded data removed]",
      "text/plain": [
       "<Figure size 640x480 with 1 Axes>"
      ]
     },
     "metadata": {},
     "output_type": "display_data"
    }
   ],
   "source": [
    "sns.histplot(data=no_outliers, x=\"Salary_USD\", bins=25)"
   ]
  },
  {
   "cell_type": "markdown",
   "id": "a8e77f81-987e-4609-be47-e4451e8a833d",
   "metadata": {},
   "source": [
    "#### Exercise - Handling Outliers"
   ]
  },
  {
   "cell_type": "markdown",
   "id": "70a85d30-a2ba-4d72-9438-2f735dbfe1c3",
   "metadata": {},
   "source": [
    "##### Identifying outliers"
   ]
  },
  {
   "cell_type": "markdown",
   "id": "1c962fe2-05e2-4d9a-91bf-1ddcc1acb4ec",
   "metadata": {},
   "source": [
    "You've proven that you recognize what to do when presented with outliers, but can you identify them using visualizations?\n",
    "\n",
    "Try to figure out if there are outliers in the \"Price\" or \"Duration\" columns of the planes DataFrame."
   ]
  },
  {
   "cell_type": "code",
   "execution_count": 128,
   "id": "a7f4e9b3-8e43-4f97-97dd-41fc912c3e2f",
   "metadata": {},
   "outputs": [
    {
     "data": {
      "image/png": "[encoded data removed]",
      "text/plain": [
       "<Figure size 640x480 with 1 Axes>"
      ]
     },
     "metadata": {},
     "output_type": "display_data"
    }
   ],
   "source": [
    "# Plot the distribution of \"Price\" column from planes.\n",
    "sns.histplot(data=planes, x=\"Price\")\n",
    "plt.show()"
   ]
  },
  {
   "cell_type": "code",
   "execution_count": 129,
   "id": "d7985c1c-9af9-4802-bcf0-a76149aafda4",
   "metadata": {},
   "outputs": [
    {
     "ename": "KeyError",
     "evalue": "'Duration'",
     "output_type": "error",
     "traceback": [
      "\u001b[1;31m---------------------------------------------------------------------------\u001b[0m",
      "\u001b[1;31mKeyError\u001b[0m                                  Traceback (most recent call last)",
      "File \u001b[1;32mI:\\Anaconda\\Lib\\site-packages\\pandas\\core\\indexes\\base.py:3805\u001b[0m, in \u001b[0;36mIndex.get_loc\u001b[1;34m(self, key)\u001b[0m\n\u001b[0;32m   3804\u001b[0m \u001b[38;5;28;01mtry\u001b[39;00m:\n\u001b[1;32m-> 3805\u001b[0m     \u001b[38;5;28;01mreturn\u001b[39;00m \u001b[38;5;28mself\u001b[39m\u001b[38;5;241m.\u001b[39m_engine\u001b[38;5;241m.\u001b[39mget_loc(casted_key)\n\u001b[0;32m   3806\u001b[0m \u001b[38;5;28;01mexcept\u001b[39;00m \u001b[38;5;167;01mKeyError\u001b[39;00m \u001b[38;5;28;01mas\u001b[39;00m err:\n",
      "File \u001b[1;32mindex.pyx:167\u001b[0m, in \u001b[0;36mpandas._libs.index.IndexEngine.get_loc\u001b[1;34m()\u001b[0m\n",
      "File \u001b[1;32mindex.pyx:196\u001b[0m, in \u001b[0;36mpandas._libs.index.IndexEngine.get_loc\u001b[1;34m()\u001b[0m\n",
      "File \u001b[1;32mpandas\\\\_libs\\\\hashtable_class_helper.pxi:7081\u001b[0m, in \u001b[0;36mpandas._libs.hashtable.PyObjectHashTable.get_item\u001b[1;34m()\u001b[0m\n",
      "File \u001b[1;32mpandas\\\\_libs\\\\hashtable_class_helper.pxi:7089\u001b[0m, in \u001b[0;36mpandas._libs.hashtable.PyObjectHashTable.get_item\u001b[1;34m()\u001b[0m\n",
      "\u001b[1;31mKeyError\u001b[0m: 'Duration'",
      "\nThe above exception was the direct cause of the following exception:\n",
      "\u001b[1;31mKeyError\u001b[0m                                  Traceback (most recent call last)",
      "Cell \u001b[1;32mIn[129], line 2\u001b[0m\n\u001b[0;32m      1\u001b[0m \u001b[38;5;66;03m# Display the descriptive statistics for flight duration.\u001b[39;00m\n\u001b[1;32m----> 2\u001b[0m planes[\u001b[38;5;124m\"\u001b[39m\u001b[38;5;124mDuration\u001b[39m\u001b[38;5;124m\"\u001b[39m]\u001b[38;5;241m.\u001b[39mdescribe()\n",
      "File \u001b[1;32mI:\\Anaconda\\Lib\\site-packages\\pandas\\core\\frame.py:4102\u001b[0m, in \u001b[0;36mDataFrame.__getitem__\u001b[1;34m(self, key)\u001b[0m\n\u001b[0;32m   4100\u001b[0m \u001b[38;5;28;01mif\u001b[39;00m \u001b[38;5;28mself\u001b[39m\u001b[38;5;241m.\u001b[39mcolumns\u001b[38;5;241m.\u001b[39mnlevels \u001b[38;5;241m>\u001b[39m \u001b[38;5;241m1\u001b[39m:\n\u001b[0;32m   4101\u001b[0m     \u001b[38;5;28;01mreturn\u001b[39;00m \u001b[38;5;28mself\u001b[39m\u001b[38;5;241m.\u001b[39m_getitem_multilevel(key)\n\u001b[1;32m-> 4102\u001b[0m indexer \u001b[38;5;241m=\u001b[39m \u001b[38;5;28mself\u001b[39m\u001b[38;5;241m.\u001b[39mcolumns\u001b[38;5;241m.\u001b[39mget_loc(key)\n\u001b[0;32m   4103\u001b[0m \u001b[38;5;28;01mif\u001b[39;00m is_integer(indexer):\n\u001b[0;32m   4104\u001b[0m     indexer \u001b[38;5;241m=\u001b[39m [indexer]\n",
      "File \u001b[1;32mI:\\Anaconda\\Lib\\site-packages\\pandas\\core\\indexes\\base.py:3812\u001b[0m, in \u001b[0;36mIndex.get_loc\u001b[1;34m(self, key)\u001b[0m\n\u001b[0;32m   3807\u001b[0m     \u001b[38;5;28;01mif\u001b[39;00m \u001b[38;5;28misinstance\u001b[39m(casted_key, \u001b[38;5;28mslice\u001b[39m) \u001b[38;5;129;01mor\u001b[39;00m (\n\u001b[0;32m   3808\u001b[0m         \u001b[38;5;28misinstance\u001b[39m(casted_key, abc\u001b[38;5;241m.\u001b[39mIterable)\n\u001b[0;32m   3809\u001b[0m         \u001b[38;5;129;01mand\u001b[39;00m \u001b[38;5;28many\u001b[39m(\u001b[38;5;28misinstance\u001b[39m(x, \u001b[38;5;28mslice\u001b[39m) \u001b[38;5;28;01mfor\u001b[39;00m x \u001b[38;5;129;01min\u001b[39;00m casted_key)\n\u001b[0;32m   3810\u001b[0m     ):\n\u001b[0;32m   3811\u001b[0m         \u001b[38;5;28;01mraise\u001b[39;00m InvalidIndexError(key)\n\u001b[1;32m-> 3812\u001b[0m     \u001b[38;5;28;01mraise\u001b[39;00m \u001b[38;5;167;01mKeyError\u001b[39;00m(key) \u001b[38;5;28;01mfrom\u001b[39;00m \u001b[38;5;21;01merr\u001b[39;00m\n\u001b[0;32m   3813\u001b[0m \u001b[38;5;28;01mexcept\u001b[39;00m \u001b[38;5;167;01mTypeError\u001b[39;00m:\n\u001b[0;32m   3814\u001b[0m     \u001b[38;5;66;03m# If we have a listlike key, _check_indexing_error will raise\u001b[39;00m\n\u001b[0;32m   3815\u001b[0m     \u001b[38;5;66;03m#  InvalidIndexError. Otherwise we fall through and re-raise\u001b[39;00m\n\u001b[0;32m   3816\u001b[0m     \u001b[38;5;66;03m#  the TypeError.\u001b[39;00m\n\u001b[0;32m   3817\u001b[0m     \u001b[38;5;28mself\u001b[39m\u001b[38;5;241m.\u001b[39m_check_indexing_error(key)\n",
      "\u001b[1;31mKeyError\u001b[0m: 'Duration'"
     ]
    }
   ],
   "source": [
    "# Display the descriptive statistics for flight duration.\n",
    "planes[\"Duration\"].describe()"
   ]
  },
  {
   "cell_type": "markdown",
   "id": "29a36d4d-54c3-4874-9e53-ac7ec42a86c0",
   "metadata": {},
   "source": [
    "##### Removing outliers"
   ]
  },
  {
   "cell_type": "markdown",
   "id": "ddcada27-0a67-49cf-a5c5-a4da9f8d89d3",
   "metadata": {},
   "source": [
    "While removing outliers isn't always the way to go, for your analysis, you've decided that you will only include flights where the \"Price\" is not an outlier.\n",
    "\n",
    "Therefore, you need to find the upper threshold and then use it to remove values above this from the planes DataFrame."
   ]
  },
  {
   "cell_type": "code",
   "execution_count": 130,
   "id": "97dd3bfc-56b7-4cca-8502-fb245b83591f",
   "metadata": {},
   "outputs": [],
   "source": [
    "# Find the 75th and 25th percentiles, saving as price_seventy_fifth and price_twenty_fifth respectively.\n",
    "price_seventy_fifth = planes[\"Price\"].quantile(0.75)\n",
    "price_twenty_fifth = planes[\"Price\"].quantile(0.25)"
   ]
  },
  {
   "cell_type": "code",
   "execution_count": 131,
   "id": "c7a6e618-7de7-4d66-b407-dc120ab508f2",
   "metadata": {},
   "outputs": [],
   "source": [
    "# Calculate the IQR, storing it as prices_iqr.\n",
    "prices_iqr = price_seventy_fifth - price_twenty_fifth"
   ]
  },
  {
   "cell_type": "code",
   "execution_count": 132,
   "id": "7074b649-1d91-48ef-a803-85988f47c344",
   "metadata": {},
   "outputs": [],
   "source": [
    "# Calculate the upper and lower outlier thresholds.\n",
    "upper = price_seventy_fifth + (1.5 * prices_iqr)\n",
    "lower = price_twenty_fifth - (1.5 * prices_iqr)"
   ]
  },
  {
   "cell_type": "code",
   "execution_count": 133,
   "id": "81fb5dd9-b87e-4644-bebc-f099a11c771b",
   "metadata": {},
   "outputs": [
    {
     "name": "stdout",
     "output_type": "stream",
     "text": [
      "count      5.000000\n",
      "mean     280.000000\n",
      "std       57.008771\n",
      "min      200.000000\n",
      "25%      250.000000\n",
      "50%      300.000000\n",
      "75%      300.000000\n",
      "max      350.000000\n",
      "Name: Price, dtype: float64\n"
     ]
    }
   ],
   "source": [
    "# Remove the outliers from planes.\n",
    "planes = planes[(planes[\"Price\"] > lower) & (planes[\"Price\"] < upper)]\n",
    "print(planes[\"Price\"].describe())\n"
   ]
  },
  {
   "cell_type": "code",
   "execution_count": null,
   "id": "c42f176d-de4d-483f-88fe-613af505d4d2",
   "metadata": {},
   "outputs": [],
   "source": []
  }
 ],
 "metadata": {
  "kernelspec": {
   "display_name": "Python 3 (ipykernel)",
   "language": "python",
   "name": "python3"
  },
  "language_info": {
   "codemirror_mode": {
    "name": "ipython",
    "version": 3
   },
   "file_extension": ".py",
   "mimetype": "text/x-python",
   "name": "python",
   "nbconvert_exporter": "python",
   "pygments_lexer": "ipython3",
   "version": "3.12.7"
  }
 },
 "nbformat": 4,
 "nbformat_minor": 5
}
